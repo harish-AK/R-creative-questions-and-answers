{
 "cells": [
  {
   "cell_type": "markdown",
   "id": "e28b3971",
   "metadata": {},
   "source": [
    "1.For the given table below do the following operations using\n",
    "R Code.(CO1)"
   ]
  },
  {
   "cell_type": "code",
   "execution_count": 48,
   "id": "a27d0f50",
   "metadata": {},
   "outputs": [],
   "source": [
    "df=data.frame(emp_id=c(101,102,103,104,105),emp_name=c(\"Ashish kaktan\",\"Raj Choudhary\",\"Vivek Oberai\",\"Shantanu Khandelwal\",\"Khanak Desai\"),emp_no=c(9450425345,8962309621,7512309034,9020330023,8451004522))"
   ]
  },
  {
   "cell_type": "code",
   "execution_count": 49,
   "id": "471b06c9",
   "metadata": {},
   "outputs": [
    {
     "data": {
      "text/html": [
       "<table class=\"dataframe\">\n",
       "<caption>A data.frame: 5 × 3</caption>\n",
       "<thead>\n",
       "\t<tr><th scope=col>emp_id</th><th scope=col>emp_name</th><th scope=col>emp_no</th></tr>\n",
       "\t<tr><th scope=col>&lt;dbl&gt;</th><th scope=col>&lt;chr&gt;</th><th scope=col>&lt;dbl&gt;</th></tr>\n",
       "</thead>\n",
       "<tbody>\n",
       "\t<tr><td>101</td><td>Ashish kaktan      </td><td>9450425345</td></tr>\n",
       "\t<tr><td>102</td><td>Raj Choudhary      </td><td>8962309621</td></tr>\n",
       "\t<tr><td>103</td><td>Vivek Oberai       </td><td>7512309034</td></tr>\n",
       "\t<tr><td>104</td><td>Shantanu Khandelwal</td><td>9020330023</td></tr>\n",
       "\t<tr><td>105</td><td>Khanak Desai       </td><td>8451004522</td></tr>\n",
       "</tbody>\n",
       "</table>\n"
      ],
      "text/latex": [
       "A data.frame: 5 × 3\n",
       "\\begin{tabular}{lll}\n",
       " emp\\_id & emp\\_name & emp\\_no\\\\\n",
       " <dbl> & <chr> & <dbl>\\\\\n",
       "\\hline\n",
       "\t 101 & Ashish kaktan       & 9450425345\\\\\n",
       "\t 102 & Raj Choudhary       & 8962309621\\\\\n",
       "\t 103 & Vivek Oberai        & 7512309034\\\\\n",
       "\t 104 & Shantanu Khandelwal & 9020330023\\\\\n",
       "\t 105 & Khanak Desai        & 8451004522\\\\\n",
       "\\end{tabular}\n"
      ],
      "text/markdown": [
       "\n",
       "A data.frame: 5 × 3\n",
       "\n",
       "| emp_id &lt;dbl&gt; | emp_name &lt;chr&gt; | emp_no &lt;dbl&gt; |\n",
       "|---|---|---|\n",
       "| 101 | Ashish kaktan       | 9450425345 |\n",
       "| 102 | Raj Choudhary       | 8962309621 |\n",
       "| 103 | Vivek Oberai        | 7512309034 |\n",
       "| 104 | Shantanu Khandelwal | 9020330023 |\n",
       "| 105 | Khanak Desai        | 8451004522 |\n",
       "\n"
      ],
      "text/plain": [
       "  emp_id emp_name            emp_no    \n",
       "1 101    Ashish kaktan       9450425345\n",
       "2 102    Raj Choudhary       8962309621\n",
       "3 103    Vivek Oberai        7512309034\n",
       "4 104    Shantanu Khandelwal 9020330023\n",
       "5 105    Khanak Desai        8451004522"
      ]
     },
     "metadata": {},
     "output_type": "display_data"
    }
   ],
   "source": [
    "df"
   ]
  },
  {
   "cell_type": "code",
   "execution_count": 24,
   "id": "8db7f532",
   "metadata": {},
   "outputs": [],
   "source": [
    "df2=data.frame(emp_id=c(101,104,105,108,109),emp_profile=c(\"content writer\",\"data analyst\",\"sofware engineer\",\"developement executive\",\"makketing manager\"),emp_country=c(\"germany\",\"india\",\"india\",\"europe\",\"mexico\"),emp_join_date=c(\"2021-04-29\",\"2022-12-11\",\"2022-01-03\",\"2023-02-15\",\"2023-01-23\"))"
   ]
  },
  {
   "cell_type": "code",
   "execution_count": 25,
   "id": "12bb0503",
   "metadata": {},
   "outputs": [
    {
     "data": {
      "text/html": [
       "<table class=\"dataframe\">\n",
       "<caption>A data.frame: 5 × 4</caption>\n",
       "<thead>\n",
       "\t<tr><th scope=col>emp_id</th><th scope=col>emp_profile</th><th scope=col>emp_country</th><th scope=col>emp_join_date</th></tr>\n",
       "\t<tr><th scope=col>&lt;dbl&gt;</th><th scope=col>&lt;chr&gt;</th><th scope=col>&lt;chr&gt;</th><th scope=col>&lt;chr&gt;</th></tr>\n",
       "</thead>\n",
       "<tbody>\n",
       "\t<tr><td>101</td><td>content writer        </td><td>germany</td><td>2021-04-29</td></tr>\n",
       "\t<tr><td>104</td><td>data analyst          </td><td>india  </td><td>2022-12-11</td></tr>\n",
       "\t<tr><td>105</td><td>sofware engineer      </td><td>india  </td><td>2022-01-03</td></tr>\n",
       "\t<tr><td>108</td><td>developement executive</td><td>europe </td><td>2023-02-15</td></tr>\n",
       "\t<tr><td>109</td><td>makketing manager     </td><td>mexico </td><td>2023-01-23</td></tr>\n",
       "</tbody>\n",
       "</table>\n"
      ],
      "text/latex": [
       "A data.frame: 5 × 4\n",
       "\\begin{tabular}{llll}\n",
       " emp\\_id & emp\\_profile & emp\\_country & emp\\_join\\_date\\\\\n",
       " <dbl> & <chr> & <chr> & <chr>\\\\\n",
       "\\hline\n",
       "\t 101 & content writer         & germany & 2021-04-29\\\\\n",
       "\t 104 & data analyst           & india   & 2022-12-11\\\\\n",
       "\t 105 & sofware engineer       & india   & 2022-01-03\\\\\n",
       "\t 108 & developement executive & europe  & 2023-02-15\\\\\n",
       "\t 109 & makketing manager      & mexico  & 2023-01-23\\\\\n",
       "\\end{tabular}\n"
      ],
      "text/markdown": [
       "\n",
       "A data.frame: 5 × 4\n",
       "\n",
       "| emp_id &lt;dbl&gt; | emp_profile &lt;chr&gt; | emp_country &lt;chr&gt; | emp_join_date &lt;chr&gt; |\n",
       "|---|---|---|---|\n",
       "| 101 | content writer         | germany | 2021-04-29 |\n",
       "| 104 | data analyst           | india   | 2022-12-11 |\n",
       "| 105 | sofware engineer       | india   | 2022-01-03 |\n",
       "| 108 | developement executive | europe  | 2023-02-15 |\n",
       "| 109 | makketing manager      | mexico  | 2023-01-23 |\n",
       "\n"
      ],
      "text/plain": [
       "  emp_id emp_profile            emp_country emp_join_date\n",
       "1 101    content writer         germany     2021-04-29   \n",
       "2 104    data analyst           india       2022-12-11   \n",
       "3 105    sofware engineer       india       2022-01-03   \n",
       "4 108    developement executive europe      2023-02-15   \n",
       "5 109    makketing manager      mexico      2023-01-23   "
      ]
     },
     "metadata": {},
     "output_type": "display_data"
    }
   ],
   "source": [
    "df2"
   ]
  },
  {
   "cell_type": "markdown",
   "id": "1d200a61",
   "metadata": {},
   "source": [
    "(ii) Create a column “Emp_Salary” in dataframe 2.(Values of your\n",
    "choice)."
   ]
  },
  {
   "cell_type": "code",
   "execution_count": 52,
   "id": "b78d6d16",
   "metadata": {},
   "outputs": [
    {
     "data": {
      "text/html": [
       "<table class=\"dataframe\">\n",
       "<caption>A data.frame: 5 × 5</caption>\n",
       "<thead>\n",
       "\t<tr><th scope=col>emp_id</th><th scope=col>emp_profile</th><th scope=col>emp_country</th><th scope=col>emp_join_date</th><th scope=col>emp_salary</th></tr>\n",
       "\t<tr><th scope=col>&lt;dbl&gt;</th><th scope=col>&lt;chr&gt;</th><th scope=col>&lt;chr&gt;</th><th scope=col>&lt;chr&gt;</th><th scope=col>&lt;dbl&gt;</th></tr>\n",
       "</thead>\n",
       "<tbody>\n",
       "\t<tr><td>101</td><td>content writer        </td><td>germany</td><td>2021-04-29</td><td>12000</td></tr>\n",
       "\t<tr><td>104</td><td>data analyst          </td><td>india  </td><td>2022-12-11</td><td>20000</td></tr>\n",
       "\t<tr><td>105</td><td>sofware engineer      </td><td>india  </td><td>2022-01-03</td><td>30000</td></tr>\n",
       "\t<tr><td>108</td><td>developement executive</td><td>europe </td><td>2023-02-15</td><td>40000</td></tr>\n",
       "\t<tr><td>109</td><td>makketing manager     </td><td>mexico </td><td>202-05-23 </td><td>50000</td></tr>\n",
       "</tbody>\n",
       "</table>\n"
      ],
      "text/latex": [
       "A data.frame: 5 × 5\n",
       "\\begin{tabular}{lllll}\n",
       " emp\\_id & emp\\_profile & emp\\_country & emp\\_join\\_date & emp\\_salary\\\\\n",
       " <dbl> & <chr> & <chr> & <chr> & <dbl>\\\\\n",
       "\\hline\n",
       "\t 101 & content writer         & germany & 2021-04-29 & 12000\\\\\n",
       "\t 104 & data analyst           & india   & 2022-12-11 & 20000\\\\\n",
       "\t 105 & sofware engineer       & india   & 2022-01-03 & 30000\\\\\n",
       "\t 108 & developement executive & europe  & 2023-02-15 & 40000\\\\\n",
       "\t 109 & makketing manager      & mexico  & 202-05-23  & 50000\\\\\n",
       "\\end{tabular}\n"
      ],
      "text/markdown": [
       "\n",
       "A data.frame: 5 × 5\n",
       "\n",
       "| emp_id &lt;dbl&gt; | emp_profile &lt;chr&gt; | emp_country &lt;chr&gt; | emp_join_date &lt;chr&gt; | emp_salary &lt;dbl&gt; |\n",
       "|---|---|---|---|---|\n",
       "| 101 | content writer         | germany | 2021-04-29 | 12000 |\n",
       "| 104 | data analyst           | india   | 2022-12-11 | 20000 |\n",
       "| 105 | sofware engineer       | india   | 2022-01-03 | 30000 |\n",
       "| 108 | developement executive | europe  | 2023-02-15 | 40000 |\n",
       "| 109 | makketing manager      | mexico  | 202-05-23  | 50000 |\n",
       "\n"
      ],
      "text/plain": [
       "  emp_id emp_profile            emp_country emp_join_date emp_salary\n",
       "1 101    content writer         germany     2021-04-29    12000     \n",
       "2 104    data analyst           india       2022-12-11    20000     \n",
       "3 105    sofware engineer       india       2022-01-03    30000     \n",
       "4 108    developement executive europe      2023-02-15    40000     \n",
       "5 109    makketing manager      mexico      202-05-23     50000     "
      ]
     },
     "metadata": {},
     "output_type": "display_data"
    }
   ],
   "source": [
    "df2$emp_salary=c(12000,20000,30000,40000,50000)\n",
    "df2"
   ]
  },
  {
   "cell_type": "markdown",
   "id": "4d55d715",
   "metadata": {},
   "source": [
    "(iii) Delete the inserted column (Emp_Salary)."
   ]
  },
  {
   "cell_type": "code",
   "execution_count": 53,
   "id": "5a074030",
   "metadata": {},
   "outputs": [
    {
     "data": {
      "text/html": [
       "<table class=\"dataframe\">\n",
       "<caption>A data.frame: 5 × 4</caption>\n",
       "<thead>\n",
       "\t<tr><th></th><th scope=col>emp_id</th><th scope=col>emp_profile</th><th scope=col>emp_country</th><th scope=col>emp_join_date</th></tr>\n",
       "\t<tr><th></th><th scope=col>&lt;dbl&gt;</th><th scope=col>&lt;chr&gt;</th><th scope=col>&lt;chr&gt;</th><th scope=col>&lt;chr&gt;</th></tr>\n",
       "</thead>\n",
       "<tbody>\n",
       "\t<tr><th scope=row>1</th><td>101</td><td>content writer        </td><td>germany</td><td>2021-04-29</td></tr>\n",
       "\t<tr><th scope=row>2</th><td>104</td><td>data analyst          </td><td>india  </td><td>2022-12-11</td></tr>\n",
       "\t<tr><th scope=row>3</th><td>105</td><td>sofware engineer      </td><td>india  </td><td>2022-01-03</td></tr>\n",
       "\t<tr><th scope=row>4</th><td>108</td><td>developement executive</td><td>europe </td><td>2023-02-15</td></tr>\n",
       "\t<tr><th scope=row>5</th><td>109</td><td>makketing manager     </td><td>mexico </td><td>202-05-23 </td></tr>\n",
       "</tbody>\n",
       "</table>\n"
      ],
      "text/latex": [
       "A data.frame: 5 × 4\n",
       "\\begin{tabular}{r|llll}\n",
       "  & emp\\_id & emp\\_profile & emp\\_country & emp\\_join\\_date\\\\\n",
       "  & <dbl> & <chr> & <chr> & <chr>\\\\\n",
       "\\hline\n",
       "\t1 & 101 & content writer         & germany & 2021-04-29\\\\\n",
       "\t2 & 104 & data analyst           & india   & 2022-12-11\\\\\n",
       "\t3 & 105 & sofware engineer       & india   & 2022-01-03\\\\\n",
       "\t4 & 108 & developement executive & europe  & 2023-02-15\\\\\n",
       "\t5 & 109 & makketing manager      & mexico  & 202-05-23 \\\\\n",
       "\\end{tabular}\n"
      ],
      "text/markdown": [
       "\n",
       "A data.frame: 5 × 4\n",
       "\n",
       "| <!--/--> | emp_id &lt;dbl&gt; | emp_profile &lt;chr&gt; | emp_country &lt;chr&gt; | emp_join_date &lt;chr&gt; |\n",
       "|---|---|---|---|---|\n",
       "| 1 | 101 | content writer         | germany | 2021-04-29 |\n",
       "| 2 | 104 | data analyst           | india   | 2022-12-11 |\n",
       "| 3 | 105 | sofware engineer       | india   | 2022-01-03 |\n",
       "| 4 | 108 | developement executive | europe  | 2023-02-15 |\n",
       "| 5 | 109 | makketing manager      | mexico  | 202-05-23  |\n",
       "\n"
      ],
      "text/plain": [
       "  emp_id emp_profile            emp_country emp_join_date\n",
       "1 101    content writer         germany     2021-04-29   \n",
       "2 104    data analyst           india       2022-12-11   \n",
       "3 105    sofware engineer       india       2022-01-03   \n",
       "4 108    developement executive europe      2023-02-15   \n",
       "5 109    makketing manager      mexico      202-05-23    "
      ]
     },
     "metadata": {},
     "output_type": "display_data"
    }
   ],
   "source": [
    "df2=subset(df2, select = -emp_salary)\n",
    "df2       # once a column is deleted it cannot be deleted again"
   ]
  },
  {
   "cell_type": "code",
   "execution_count": 54,
   "id": "87a98835",
   "metadata": {},
   "outputs": [
    {
     "data": {
      "text/html": [
       "<table class=\"dataframe\">\n",
       "<caption>A data.frame: 5 × 4</caption>\n",
       "<thead>\n",
       "\t<tr><th></th><th scope=col>emp_id</th><th scope=col>emp_profile</th><th scope=col>emp_country</th><th scope=col>emp_join_date</th></tr>\n",
       "\t<tr><th></th><th scope=col>&lt;dbl&gt;</th><th scope=col>&lt;chr&gt;</th><th scope=col>&lt;chr&gt;</th><th scope=col>&lt;chr&gt;</th></tr>\n",
       "</thead>\n",
       "<tbody>\n",
       "\t<tr><th scope=row>1</th><td>101</td><td>content writer        </td><td>germany</td><td>2021-04-29</td></tr>\n",
       "\t<tr><th scope=row>2</th><td>104</td><td>data analyst          </td><td>india  </td><td>2022-12-11</td></tr>\n",
       "\t<tr><th scope=row>3</th><td>105</td><td>sofware engineer      </td><td>india  </td><td>2022-01-03</td></tr>\n",
       "\t<tr><th scope=row>4</th><td>108</td><td>developement executive</td><td>europe </td><td>2023-02-15</td></tr>\n",
       "\t<tr><th scope=row>5</th><td>109</td><td>makketing manager     </td><td>mexico </td><td>202-05-23 </td></tr>\n",
       "</tbody>\n",
       "</table>\n"
      ],
      "text/latex": [
       "A data.frame: 5 × 4\n",
       "\\begin{tabular}{r|llll}\n",
       "  & emp\\_id & emp\\_profile & emp\\_country & emp\\_join\\_date\\\\\n",
       "  & <dbl> & <chr> & <chr> & <chr>\\\\\n",
       "\\hline\n",
       "\t1 & 101 & content writer         & germany & 2021-04-29\\\\\n",
       "\t2 & 104 & data analyst           & india   & 2022-12-11\\\\\n",
       "\t3 & 105 & sofware engineer       & india   & 2022-01-03\\\\\n",
       "\t4 & 108 & developement executive & europe  & 2023-02-15\\\\\n",
       "\t5 & 109 & makketing manager      & mexico  & 202-05-23 \\\\\n",
       "\\end{tabular}\n"
      ],
      "text/markdown": [
       "\n",
       "A data.frame: 5 × 4\n",
       "\n",
       "| <!--/--> | emp_id &lt;dbl&gt; | emp_profile &lt;chr&gt; | emp_country &lt;chr&gt; | emp_join_date &lt;chr&gt; |\n",
       "|---|---|---|---|---|\n",
       "| 1 | 101 | content writer         | germany | 2021-04-29 |\n",
       "| 2 | 104 | data analyst           | india   | 2022-12-11 |\n",
       "| 3 | 105 | sofware engineer       | india   | 2022-01-03 |\n",
       "| 4 | 108 | developement executive | europe  | 2023-02-15 |\n",
       "| 5 | 109 | makketing manager      | mexico  | 202-05-23  |\n",
       "\n"
      ],
      "text/plain": [
       "  emp_id emp_profile            emp_country emp_join_date\n",
       "1 101    content writer         germany     2021-04-29   \n",
       "2 104    data analyst           india       2022-12-11   \n",
       "3 105    sofware engineer       india       2022-01-03   \n",
       "4 108    developement executive europe      2023-02-15   \n",
       "5 109    makketing manager      mexico      202-05-23    "
      ]
     },
     "metadata": {},
     "output_type": "display_data"
    }
   ],
   "source": [
    "df2"
   ]
  },
  {
   "cell_type": "markdown",
   "id": "d56ef325",
   "metadata": {},
   "source": [
    "(iv) Perform all join operations."
   ]
  },
  {
   "cell_type": "code",
   "execution_count": 56,
   "id": "66d10346",
   "metadata": {},
   "outputs": [
    {
     "data": {
      "text/html": [
       "<table class=\"dataframe\">\n",
       "<caption>A data.frame: 5 × 6</caption>\n",
       "<thead>\n",
       "\t<tr><th scope=col>emp_id</th><th scope=col>emp_name</th><th scope=col>emp_no</th><th scope=col>emp_profile</th><th scope=col>emp_country</th><th scope=col>emp_join_date</th></tr>\n",
       "\t<tr><th scope=col>&lt;dbl&gt;</th><th scope=col>&lt;chr&gt;</th><th scope=col>&lt;dbl&gt;</th><th scope=col>&lt;chr&gt;</th><th scope=col>&lt;chr&gt;</th><th scope=col>&lt;chr&gt;</th></tr>\n",
       "</thead>\n",
       "<tbody>\n",
       "\t<tr><td>101</td><td>Ashish kaktan      </td><td>9450425345</td><td>content writer  </td><td>germany</td><td>2021-04-29</td></tr>\n",
       "\t<tr><td>102</td><td>Raj Choudhary      </td><td>8962309621</td><td>NA              </td><td>NA     </td><td>NA        </td></tr>\n",
       "\t<tr><td>103</td><td>Vivek Oberai       </td><td>7512309034</td><td>NA              </td><td>NA     </td><td>NA        </td></tr>\n",
       "\t<tr><td>104</td><td>Shantanu Khandelwal</td><td>9020330023</td><td>data analyst    </td><td>india  </td><td>2022-12-11</td></tr>\n",
       "\t<tr><td>105</td><td>Khanak Desai       </td><td>8451004522</td><td>sofware engineer</td><td>india  </td><td>2022-01-03</td></tr>\n",
       "</tbody>\n",
       "</table>\n"
      ],
      "text/latex": [
       "A data.frame: 5 × 6\n",
       "\\begin{tabular}{llllll}\n",
       " emp\\_id & emp\\_name & emp\\_no & emp\\_profile & emp\\_country & emp\\_join\\_date\\\\\n",
       " <dbl> & <chr> & <dbl> & <chr> & <chr> & <chr>\\\\\n",
       "\\hline\n",
       "\t 101 & Ashish kaktan       & 9450425345 & content writer   & germany & 2021-04-29\\\\\n",
       "\t 102 & Raj Choudhary       & 8962309621 & NA               & NA      & NA        \\\\\n",
       "\t 103 & Vivek Oberai        & 7512309034 & NA               & NA      & NA        \\\\\n",
       "\t 104 & Shantanu Khandelwal & 9020330023 & data analyst     & india   & 2022-12-11\\\\\n",
       "\t 105 & Khanak Desai        & 8451004522 & sofware engineer & india   & 2022-01-03\\\\\n",
       "\\end{tabular}\n"
      ],
      "text/markdown": [
       "\n",
       "A data.frame: 5 × 6\n",
       "\n",
       "| emp_id &lt;dbl&gt; | emp_name &lt;chr&gt; | emp_no &lt;dbl&gt; | emp_profile &lt;chr&gt; | emp_country &lt;chr&gt; | emp_join_date &lt;chr&gt; |\n",
       "|---|---|---|---|---|---|\n",
       "| 101 | Ashish kaktan       | 9450425345 | content writer   | germany | 2021-04-29 |\n",
       "| 102 | Raj Choudhary       | 8962309621 | NA               | NA      | NA         |\n",
       "| 103 | Vivek Oberai        | 7512309034 | NA               | NA      | NA         |\n",
       "| 104 | Shantanu Khandelwal | 9020330023 | data analyst     | india   | 2022-12-11 |\n",
       "| 105 | Khanak Desai        | 8451004522 | sofware engineer | india   | 2022-01-03 |\n",
       "\n"
      ],
      "text/plain": [
       "  emp_id emp_name            emp_no     emp_profile      emp_country\n",
       "1 101    Ashish kaktan       9450425345 content writer   germany    \n",
       "2 102    Raj Choudhary       8962309621 NA               NA         \n",
       "3 103    Vivek Oberai        7512309034 NA               NA         \n",
       "4 104    Shantanu Khandelwal 9020330023 data analyst     india      \n",
       "5 105    Khanak Desai        8451004522 sofware engineer india      \n",
       "  emp_join_date\n",
       "1 2021-04-29   \n",
       "2 NA           \n",
       "3 NA           \n",
       "4 2022-12-11   \n",
       "5 2022-01-03   "
      ]
     },
     "metadata": {},
     "output_type": "display_data"
    },
    {
     "data": {
      "text/html": [
       "<table class=\"dataframe\">\n",
       "<caption>A data.frame: 5 × 9</caption>\n",
       "<thead>\n",
       "\t<tr><th scope=col>emp_id</th><th scope=col>emp_name</th><th scope=col>emp_no</th><th scope=col>emp_profile.x</th><th scope=col>emp_country.x</th><th scope=col>emp_join_date.x</th><th scope=col>emp_profile.y</th><th scope=col>emp_country.y</th><th scope=col>emp_join_date.y</th></tr>\n",
       "\t<tr><th scope=col>&lt;dbl&gt;</th><th scope=col>&lt;chr&gt;</th><th scope=col>&lt;dbl&gt;</th><th scope=col>&lt;chr&gt;</th><th scope=col>&lt;chr&gt;</th><th scope=col>&lt;chr&gt;</th><th scope=col>&lt;chr&gt;</th><th scope=col>&lt;chr&gt;</th><th scope=col>&lt;chr&gt;</th></tr>\n",
       "</thead>\n",
       "<tbody>\n",
       "\t<tr><td>101</td><td>Ashish kaktan      </td><td>9450425345</td><td>content writer  </td><td>germany</td><td>2021-04-29</td><td>content writer        </td><td>germany</td><td>2021-04-29</td></tr>\n",
       "\t<tr><td>104</td><td>Shantanu Khandelwal</td><td>9020330023</td><td>data analyst    </td><td>india  </td><td>2022-12-11</td><td>data analyst          </td><td>india  </td><td>2022-12-11</td></tr>\n",
       "\t<tr><td>105</td><td>Khanak Desai       </td><td>8451004522</td><td>sofware engineer</td><td>india  </td><td>2022-01-03</td><td>sofware engineer      </td><td>india  </td><td>2022-01-03</td></tr>\n",
       "\t<tr><td>108</td><td>NA                 </td><td>        NA</td><td>NA              </td><td>NA     </td><td>NA        </td><td>developement executive</td><td>europe </td><td>2023-02-15</td></tr>\n",
       "\t<tr><td>109</td><td>NA                 </td><td>        NA</td><td>NA              </td><td>NA     </td><td>NA        </td><td>makketing manager     </td><td>mexico </td><td>202-05-23 </td></tr>\n",
       "</tbody>\n",
       "</table>\n"
      ],
      "text/latex": [
       "A data.frame: 5 × 9\n",
       "\\begin{tabular}{lllllllll}\n",
       " emp\\_id & emp\\_name & emp\\_no & emp\\_profile.x & emp\\_country.x & emp\\_join\\_date.x & emp\\_profile.y & emp\\_country.y & emp\\_join\\_date.y\\\\\n",
       " <dbl> & <chr> & <dbl> & <chr> & <chr> & <chr> & <chr> & <chr> & <chr>\\\\\n",
       "\\hline\n",
       "\t 101 & Ashish kaktan       & 9450425345 & content writer   & germany & 2021-04-29 & content writer         & germany & 2021-04-29\\\\\n",
       "\t 104 & Shantanu Khandelwal & 9020330023 & data analyst     & india   & 2022-12-11 & data analyst           & india   & 2022-12-11\\\\\n",
       "\t 105 & Khanak Desai        & 8451004522 & sofware engineer & india   & 2022-01-03 & sofware engineer       & india   & 2022-01-03\\\\\n",
       "\t 108 & NA                  &         NA & NA               & NA      & NA         & developement executive & europe  & 2023-02-15\\\\\n",
       "\t 109 & NA                  &         NA & NA               & NA      & NA         & makketing manager      & mexico  & 202-05-23 \\\\\n",
       "\\end{tabular}\n"
      ],
      "text/markdown": [
       "\n",
       "A data.frame: 5 × 9\n",
       "\n",
       "| emp_id &lt;dbl&gt; | emp_name &lt;chr&gt; | emp_no &lt;dbl&gt; | emp_profile.x &lt;chr&gt; | emp_country.x &lt;chr&gt; | emp_join_date.x &lt;chr&gt; | emp_profile.y &lt;chr&gt; | emp_country.y &lt;chr&gt; | emp_join_date.y &lt;chr&gt; |\n",
       "|---|---|---|---|---|---|---|---|---|\n",
       "| 101 | Ashish kaktan       | 9450425345 | content writer   | germany | 2021-04-29 | content writer         | germany | 2021-04-29 |\n",
       "| 104 | Shantanu Khandelwal | 9020330023 | data analyst     | india   | 2022-12-11 | data analyst           | india   | 2022-12-11 |\n",
       "| 105 | Khanak Desai        | 8451004522 | sofware engineer | india   | 2022-01-03 | sofware engineer       | india   | 2022-01-03 |\n",
       "| 108 | NA                  |         NA | NA               | NA      | NA         | developement executive | europe  | 2023-02-15 |\n",
       "| 109 | NA                  |         NA | NA               | NA      | NA         | makketing manager      | mexico  | 202-05-23  |\n",
       "\n"
      ],
      "text/plain": [
       "  emp_id emp_name            emp_no     emp_profile.x    emp_country.x\n",
       "1 101    Ashish kaktan       9450425345 content writer   germany      \n",
       "2 104    Shantanu Khandelwal 9020330023 data analyst     india        \n",
       "3 105    Khanak Desai        8451004522 sofware engineer india        \n",
       "4 108    NA                          NA NA               NA           \n",
       "5 109    NA                          NA NA               NA           \n",
       "  emp_join_date.x emp_profile.y          emp_country.y emp_join_date.y\n",
       "1 2021-04-29      content writer         germany       2021-04-29     \n",
       "2 2022-12-11      data analyst           india         2022-12-11     \n",
       "3 2022-01-03      sofware engineer       india         2022-01-03     \n",
       "4 NA              developement executive europe        2023-02-15     \n",
       "5 NA              makketing manager      mexico        202-05-23      "
      ]
     },
     "metadata": {},
     "output_type": "display_data"
    },
    {
     "data": {
      "text/html": [
       "<table class=\"dataframe\">\n",
       "<caption>A data.frame: 5 × 12</caption>\n",
       "<thead>\n",
       "\t<tr><th scope=col>emp_id</th><th scope=col>emp_name</th><th scope=col>emp_no</th><th scope=col>emp_profile.x</th><th scope=col>emp_country.x</th><th scope=col>emp_join_date.x</th><th scope=col>emp_profile.y</th><th scope=col>emp_country.y</th><th scope=col>emp_join_date.y</th><th scope=col>emp_profile</th><th scope=col>emp_country</th><th scope=col>emp_join_date</th></tr>\n",
       "\t<tr><th scope=col>&lt;dbl&gt;</th><th scope=col>&lt;chr&gt;</th><th scope=col>&lt;dbl&gt;</th><th scope=col>&lt;chr&gt;</th><th scope=col>&lt;chr&gt;</th><th scope=col>&lt;chr&gt;</th><th scope=col>&lt;chr&gt;</th><th scope=col>&lt;chr&gt;</th><th scope=col>&lt;chr&gt;</th><th scope=col>&lt;chr&gt;</th><th scope=col>&lt;chr&gt;</th><th scope=col>&lt;chr&gt;</th></tr>\n",
       "</thead>\n",
       "<tbody>\n",
       "\t<tr><td>101</td><td>Ashish kaktan      </td><td>9450425345</td><td>content writer  </td><td>germany</td><td>2021-04-29</td><td>content writer        </td><td>germany</td><td>2021-04-29</td><td>content writer        </td><td>germany</td><td>2021-04-29</td></tr>\n",
       "\t<tr><td>104</td><td>Shantanu Khandelwal</td><td>9020330023</td><td>data analyst    </td><td>india  </td><td>2022-12-11</td><td>data analyst          </td><td>india  </td><td>2022-12-11</td><td>data analyst          </td><td>india  </td><td>2022-12-11</td></tr>\n",
       "\t<tr><td>105</td><td>Khanak Desai       </td><td>8451004522</td><td>sofware engineer</td><td>india  </td><td>2022-01-03</td><td>sofware engineer      </td><td>india  </td><td>2022-01-03</td><td>sofware engineer      </td><td>india  </td><td>2022-01-03</td></tr>\n",
       "\t<tr><td>108</td><td>NA                 </td><td>        NA</td><td>NA              </td><td>NA     </td><td>NA        </td><td>developement executive</td><td>europe </td><td>2023-02-15</td><td>developement executive</td><td>europe </td><td>2023-02-15</td></tr>\n",
       "\t<tr><td>109</td><td>NA                 </td><td>        NA</td><td>NA              </td><td>NA     </td><td>NA        </td><td>makketing manager     </td><td>mexico </td><td>202-05-23 </td><td>makketing manager     </td><td>mexico </td><td>202-05-23 </td></tr>\n",
       "</tbody>\n",
       "</table>\n"
      ],
      "text/latex": [
       "A data.frame: 5 × 12\n",
       "\\begin{tabular}{llllllllllll}\n",
       " emp\\_id & emp\\_name & emp\\_no & emp\\_profile.x & emp\\_country.x & emp\\_join\\_date.x & emp\\_profile.y & emp\\_country.y & emp\\_join\\_date.y & emp\\_profile & emp\\_country & emp\\_join\\_date\\\\\n",
       " <dbl> & <chr> & <dbl> & <chr> & <chr> & <chr> & <chr> & <chr> & <chr> & <chr> & <chr> & <chr>\\\\\n",
       "\\hline\n",
       "\t 101 & Ashish kaktan       & 9450425345 & content writer   & germany & 2021-04-29 & content writer         & germany & 2021-04-29 & content writer         & germany & 2021-04-29\\\\\n",
       "\t 104 & Shantanu Khandelwal & 9020330023 & data analyst     & india   & 2022-12-11 & data analyst           & india   & 2022-12-11 & data analyst           & india   & 2022-12-11\\\\\n",
       "\t 105 & Khanak Desai        & 8451004522 & sofware engineer & india   & 2022-01-03 & sofware engineer       & india   & 2022-01-03 & sofware engineer       & india   & 2022-01-03\\\\\n",
       "\t 108 & NA                  &         NA & NA               & NA      & NA         & developement executive & europe  & 2023-02-15 & developement executive & europe  & 2023-02-15\\\\\n",
       "\t 109 & NA                  &         NA & NA               & NA      & NA         & makketing manager      & mexico  & 202-05-23  & makketing manager      & mexico  & 202-05-23 \\\\\n",
       "\\end{tabular}\n"
      ],
      "text/markdown": [
       "\n",
       "A data.frame: 5 × 12\n",
       "\n",
       "| emp_id &lt;dbl&gt; | emp_name &lt;chr&gt; | emp_no &lt;dbl&gt; | emp_profile.x &lt;chr&gt; | emp_country.x &lt;chr&gt; | emp_join_date.x &lt;chr&gt; | emp_profile.y &lt;chr&gt; | emp_country.y &lt;chr&gt; | emp_join_date.y &lt;chr&gt; | emp_profile &lt;chr&gt; | emp_country &lt;chr&gt; | emp_join_date &lt;chr&gt; |\n",
       "|---|---|---|---|---|---|---|---|---|---|---|---|\n",
       "| 101 | Ashish kaktan       | 9450425345 | content writer   | germany | 2021-04-29 | content writer         | germany | 2021-04-29 | content writer         | germany | 2021-04-29 |\n",
       "| 104 | Shantanu Khandelwal | 9020330023 | data analyst     | india   | 2022-12-11 | data analyst           | india   | 2022-12-11 | data analyst           | india   | 2022-12-11 |\n",
       "| 105 | Khanak Desai        | 8451004522 | sofware engineer | india   | 2022-01-03 | sofware engineer       | india   | 2022-01-03 | sofware engineer       | india   | 2022-01-03 |\n",
       "| 108 | NA                  |         NA | NA               | NA      | NA         | developement executive | europe  | 2023-02-15 | developement executive | europe  | 2023-02-15 |\n",
       "| 109 | NA                  |         NA | NA               | NA      | NA         | makketing manager      | mexico  | 202-05-23  | makketing manager      | mexico  | 202-05-23  |\n",
       "\n"
      ],
      "text/plain": [
       "  emp_id emp_name            emp_no     emp_profile.x    emp_country.x\n",
       "1 101    Ashish kaktan       9450425345 content writer   germany      \n",
       "2 104    Shantanu Khandelwal 9020330023 data analyst     india        \n",
       "3 105    Khanak Desai        8451004522 sofware engineer india        \n",
       "4 108    NA                          NA NA               NA           \n",
       "5 109    NA                          NA NA               NA           \n",
       "  emp_join_date.x emp_profile.y          emp_country.y emp_join_date.y\n",
       "1 2021-04-29      content writer         germany       2021-04-29     \n",
       "2 2022-12-11      data analyst           india         2022-12-11     \n",
       "3 2022-01-03      sofware engineer       india         2022-01-03     \n",
       "4 NA              developement executive europe        2023-02-15     \n",
       "5 NA              makketing manager      mexico        202-05-23      \n",
       "  emp_profile            emp_country emp_join_date\n",
       "1 content writer         germany     2021-04-29   \n",
       "2 data analyst           india       2022-12-11   \n",
       "3 sofware engineer       india       2022-01-03   \n",
       "4 developement executive europe      2023-02-15   \n",
       "5 makketing manager      mexico      202-05-23    "
      ]
     },
     "metadata": {},
     "output_type": "display_data"
    },
    {
     "name": "stderr",
     "output_type": "stream",
     "text": [
      "Warning message in merge.data.frame(x = df, y = df2, by = \"emp_id\", all = TRUE):\n",
      "\"column names 'emp_profile.x', 'emp_country.x', 'emp_join_date.x', 'emp_profile.y', 'emp_country.y', 'emp_join_date.y' are duplicated in the result\"\n"
     ]
    },
    {
     "data": {
      "text/html": [
       "<table class=\"dataframe\">\n",
       "<caption>A data.frame: 5 × 15</caption>\n",
       "<thead>\n",
       "\t<tr><th scope=col>emp_id</th><th scope=col>emp_name</th><th scope=col>emp_no</th><th scope=col>emp_profile.x</th><th scope=col>emp_country.x</th><th scope=col>emp_join_date.x</th><th scope=col>emp_profile.y</th><th scope=col>emp_country.y</th><th scope=col>emp_join_date.y</th><th scope=col>emp_profile.x</th><th scope=col>emp_country.x</th><th scope=col>emp_join_date.x</th><th scope=col>emp_profile.y</th><th scope=col>emp_country.y</th><th scope=col>emp_join_date.y</th></tr>\n",
       "\t<tr><th scope=col>&lt;dbl&gt;</th><th scope=col>&lt;chr&gt;</th><th scope=col>&lt;dbl&gt;</th><th scope=col>&lt;chr&gt;</th><th scope=col>&lt;chr&gt;</th><th scope=col>&lt;chr&gt;</th><th scope=col>&lt;chr&gt;</th><th scope=col>&lt;chr&gt;</th><th scope=col>&lt;chr&gt;</th><th scope=col>&lt;chr&gt;</th><th scope=col>&lt;chr&gt;</th><th scope=col>&lt;chr&gt;</th><th scope=col>&lt;chr&gt;</th><th scope=col>&lt;chr&gt;</th><th scope=col>&lt;chr&gt;</th></tr>\n",
       "</thead>\n",
       "<tbody>\n",
       "\t<tr><td>101</td><td>Ashish kaktan      </td><td>9450425345</td><td>content writer  </td><td>germany</td><td>2021-04-29</td><td>content writer        </td><td>germany</td><td>2021-04-29</td><td>content writer        </td><td>germany</td><td>2021-04-29</td><td>content writer        </td><td>germany</td><td>2021-04-29</td></tr>\n",
       "\t<tr><td>104</td><td>Shantanu Khandelwal</td><td>9020330023</td><td>data analyst    </td><td>india  </td><td>2022-12-11</td><td>data analyst          </td><td>india  </td><td>2022-12-11</td><td>data analyst          </td><td>india  </td><td>2022-12-11</td><td>data analyst          </td><td>india  </td><td>2022-12-11</td></tr>\n",
       "\t<tr><td>105</td><td>Khanak Desai       </td><td>8451004522</td><td>sofware engineer</td><td>india  </td><td>2022-01-03</td><td>sofware engineer      </td><td>india  </td><td>2022-01-03</td><td>sofware engineer      </td><td>india  </td><td>2022-01-03</td><td>sofware engineer      </td><td>india  </td><td>2022-01-03</td></tr>\n",
       "\t<tr><td>108</td><td>NA                 </td><td>        NA</td><td>NA              </td><td>NA     </td><td>NA        </td><td>developement executive</td><td>europe </td><td>2023-02-15</td><td>developement executive</td><td>europe </td><td>2023-02-15</td><td>developement executive</td><td>europe </td><td>2023-02-15</td></tr>\n",
       "\t<tr><td>109</td><td>NA                 </td><td>        NA</td><td>NA              </td><td>NA     </td><td>NA        </td><td>makketing manager     </td><td>mexico </td><td>202-05-23 </td><td>makketing manager     </td><td>mexico </td><td>202-05-23 </td><td>makketing manager     </td><td>mexico </td><td>202-05-23 </td></tr>\n",
       "</tbody>\n",
       "</table>\n"
      ],
      "text/latex": [
       "A data.frame: 5 × 15\n",
       "\\begin{tabular}{lllllllllllllll}\n",
       " emp\\_id & emp\\_name & emp\\_no & emp\\_profile.x & emp\\_country.x & emp\\_join\\_date.x & emp\\_profile.y & emp\\_country.y & emp\\_join\\_date.y & emp\\_profile.x & emp\\_country.x & emp\\_join\\_date.x & emp\\_profile.y & emp\\_country.y & emp\\_join\\_date.y\\\\\n",
       " <dbl> & <chr> & <dbl> & <chr> & <chr> & <chr> & <chr> & <chr> & <chr> & <chr> & <chr> & <chr> & <chr> & <chr> & <chr>\\\\\n",
       "\\hline\n",
       "\t 101 & Ashish kaktan       & 9450425345 & content writer   & germany & 2021-04-29 & content writer         & germany & 2021-04-29 & content writer         & germany & 2021-04-29 & content writer         & germany & 2021-04-29\\\\\n",
       "\t 104 & Shantanu Khandelwal & 9020330023 & data analyst     & india   & 2022-12-11 & data analyst           & india   & 2022-12-11 & data analyst           & india   & 2022-12-11 & data analyst           & india   & 2022-12-11\\\\\n",
       "\t 105 & Khanak Desai        & 8451004522 & sofware engineer & india   & 2022-01-03 & sofware engineer       & india   & 2022-01-03 & sofware engineer       & india   & 2022-01-03 & sofware engineer       & india   & 2022-01-03\\\\\n",
       "\t 108 & NA                  &         NA & NA               & NA      & NA         & developement executive & europe  & 2023-02-15 & developement executive & europe  & 2023-02-15 & developement executive & europe  & 2023-02-15\\\\\n",
       "\t 109 & NA                  &         NA & NA               & NA      & NA         & makketing manager      & mexico  & 202-05-23  & makketing manager      & mexico  & 202-05-23  & makketing manager      & mexico  & 202-05-23 \\\\\n",
       "\\end{tabular}\n"
      ],
      "text/markdown": [
       "\n",
       "A data.frame: 5 × 15\n",
       "\n",
       "| emp_id &lt;dbl&gt; | emp_name &lt;chr&gt; | emp_no &lt;dbl&gt; | emp_profile.x &lt;chr&gt; | emp_country.x &lt;chr&gt; | emp_join_date.x &lt;chr&gt; | emp_profile.y &lt;chr&gt; | emp_country.y &lt;chr&gt; | emp_join_date.y &lt;chr&gt; | emp_profile.x &lt;chr&gt; | emp_country.x &lt;chr&gt; | emp_join_date.x &lt;chr&gt; | emp_profile.y &lt;chr&gt; | emp_country.y &lt;chr&gt; | emp_join_date.y &lt;chr&gt; |\n",
       "|---|---|---|---|---|---|---|---|---|---|---|---|---|---|---|\n",
       "| 101 | Ashish kaktan       | 9450425345 | content writer   | germany | 2021-04-29 | content writer         | germany | 2021-04-29 | content writer         | germany | 2021-04-29 | content writer         | germany | 2021-04-29 |\n",
       "| 104 | Shantanu Khandelwal | 9020330023 | data analyst     | india   | 2022-12-11 | data analyst           | india   | 2022-12-11 | data analyst           | india   | 2022-12-11 | data analyst           | india   | 2022-12-11 |\n",
       "| 105 | Khanak Desai        | 8451004522 | sofware engineer | india   | 2022-01-03 | sofware engineer       | india   | 2022-01-03 | sofware engineer       | india   | 2022-01-03 | sofware engineer       | india   | 2022-01-03 |\n",
       "| 108 | NA                  |         NA | NA               | NA      | NA         | developement executive | europe  | 2023-02-15 | developement executive | europe  | 2023-02-15 | developement executive | europe  | 2023-02-15 |\n",
       "| 109 | NA                  |         NA | NA               | NA      | NA         | makketing manager      | mexico  | 202-05-23  | makketing manager      | mexico  | 202-05-23  | makketing manager      | mexico  | 202-05-23  |\n",
       "\n"
      ],
      "text/plain": [
       "  emp_id emp_name            emp_no     emp_profile.x    emp_country.x\n",
       "1 101    Ashish kaktan       9450425345 content writer   germany      \n",
       "2 104    Shantanu Khandelwal 9020330023 data analyst     india        \n",
       "3 105    Khanak Desai        8451004522 sofware engineer india        \n",
       "4 108    NA                          NA NA               NA           \n",
       "5 109    NA                          NA NA               NA           \n",
       "  emp_join_date.x emp_profile.y          emp_country.y emp_join_date.y\n",
       "1 2021-04-29      content writer         germany       2021-04-29     \n",
       "2 2022-12-11      data analyst           india         2022-12-11     \n",
       "3 2022-01-03      sofware engineer       india         2022-01-03     \n",
       "4 NA              developement executive europe        2023-02-15     \n",
       "5 NA              makketing manager      mexico        202-05-23      \n",
       "  emp_profile.x          emp_country.x emp_join_date.x emp_profile.y         \n",
       "1 content writer         germany       2021-04-29      content writer        \n",
       "2 data analyst           india         2022-12-11      data analyst          \n",
       "3 sofware engineer       india         2022-01-03      sofware engineer      \n",
       "4 developement executive europe        2023-02-15      developement executive\n",
       "5 makketing manager      mexico        202-05-23       makketing manager     \n",
       "  emp_country.y emp_join_date.y\n",
       "1 germany       2021-04-29     \n",
       "2 india         2022-12-11     \n",
       "3 india         2022-01-03     \n",
       "4 europe        2023-02-15     \n",
       "5 mexico        202-05-23      "
      ]
     },
     "metadata": {},
     "output_type": "display_data"
    }
   ],
   "source": [
    "#left join\n",
    "df=merge(x=df,y=df2,by=\"emp_id\",all.x=TRUE)\n",
    "df\n",
    "\n",
    "#right join\n",
    "df=merge(x=df,y=df2,by=\"emp_id\",all.y=TRUE)\n",
    "df\n",
    "\n",
    "#natural join\n",
    "df=merge(x=df,y=df2,by=\"emp_id\",all=FALSE)  # common values only get printed\n",
    "df\n",
    "\n",
    "#full outer join\n",
    "df=merge(x=df,y=df2,by=\"emp_id\",all=TRUE)\n",
    "df"
   ]
  },
  {
   "cell_type": "markdown",
   "id": "56c72515",
   "metadata": {},
   "source": [
    "(v)Sort the dataframe 2 based on the Emp_Join_Date."
   ]
  },
  {
   "cell_type": "code",
   "execution_count": 26,
   "id": "ecc4c959",
   "metadata": {},
   "outputs": [
    {
     "data": {
      "text/html": [
       "<table class=\"dataframe\">\n",
       "<caption>A data.frame: 5 × 4</caption>\n",
       "<thead>\n",
       "\t<tr><th></th><th scope=col>emp_id</th><th scope=col>emp_profile</th><th scope=col>emp_country</th><th scope=col>emp_join_date</th></tr>\n",
       "\t<tr><th></th><th scope=col>&lt;dbl&gt;</th><th scope=col>&lt;chr&gt;</th><th scope=col>&lt;chr&gt;</th><th scope=col>&lt;date&gt;</th></tr>\n",
       "</thead>\n",
       "<tbody>\n",
       "\t<tr><th scope=row>1</th><td>101</td><td>content writer        </td><td>germany</td><td>2021-04-29</td></tr>\n",
       "\t<tr><th scope=row>3</th><td>105</td><td>sofware engineer      </td><td>india  </td><td>2022-01-03</td></tr>\n",
       "\t<tr><th scope=row>2</th><td>104</td><td>data analyst          </td><td>india  </td><td>2022-12-11</td></tr>\n",
       "\t<tr><th scope=row>5</th><td>109</td><td>makketing manager     </td><td>mexico </td><td>2023-01-23</td></tr>\n",
       "\t<tr><th scope=row>4</th><td>108</td><td>developement executive</td><td>europe </td><td>2023-02-15</td></tr>\n",
       "</tbody>\n",
       "</table>\n"
      ],
      "text/latex": [
       "A data.frame: 5 × 4\n",
       "\\begin{tabular}{r|llll}\n",
       "  & emp\\_id & emp\\_profile & emp\\_country & emp\\_join\\_date\\\\\n",
       "  & <dbl> & <chr> & <chr> & <date>\\\\\n",
       "\\hline\n",
       "\t1 & 101 & content writer         & germany & 2021-04-29\\\\\n",
       "\t3 & 105 & sofware engineer       & india   & 2022-01-03\\\\\n",
       "\t2 & 104 & data analyst           & india   & 2022-12-11\\\\\n",
       "\t5 & 109 & makketing manager      & mexico  & 2023-01-23\\\\\n",
       "\t4 & 108 & developement executive & europe  & 2023-02-15\\\\\n",
       "\\end{tabular}\n"
      ],
      "text/markdown": [
       "\n",
       "A data.frame: 5 × 4\n",
       "\n",
       "| <!--/--> | emp_id &lt;dbl&gt; | emp_profile &lt;chr&gt; | emp_country &lt;chr&gt; | emp_join_date &lt;date&gt; |\n",
       "|---|---|---|---|---|\n",
       "| 1 | 101 | content writer         | germany | 2021-04-29 |\n",
       "| 3 | 105 | sofware engineer       | india   | 2022-01-03 |\n",
       "| 2 | 104 | data analyst           | india   | 2022-12-11 |\n",
       "| 5 | 109 | makketing manager      | mexico  | 2023-01-23 |\n",
       "| 4 | 108 | developement executive | europe  | 2023-02-15 |\n",
       "\n"
      ],
      "text/plain": [
       "  emp_id emp_profile            emp_country emp_join_date\n",
       "1 101    content writer         germany     2021-04-29   \n",
       "3 105    sofware engineer       india       2022-01-03   \n",
       "2 104    data analyst           india       2022-12-11   \n",
       "5 109    makketing manager      mexico      2023-01-23   \n",
       "4 108    developement executive europe      2023-02-15   "
      ]
     },
     "metadata": {},
     "output_type": "display_data"
    }
   ],
   "source": [
    "df2$emp_join_date=as.Date(df2$emp_join_date,format=\"%Y-%m-%d\")\n",
    "df2=df2[order(df2$emp_join_date),]\n",
    "df2"
   ]
  },
  {
   "cell_type": "markdown",
   "id": "0d8b1c4f",
   "metadata": {},
   "source": [
    "2) Multiply the given matrix by the given vector using R\n",
    "Programming Language. Multiplication between the two\n",
    "occurs when vector elements are multiplied with matrix\n",
    "elements column-wise.(CO1)\n",
    "\n",
    "Given Multiplication vector -> c(1,2,3,4)"
   ]
  },
  {
   "cell_type": "code",
   "execution_count": 72,
   "id": "90d8e095",
   "metadata": {},
   "outputs": [
    {
     "name": "stdout",
     "output_type": "stream",
     "text": [
      "     [,1] [,2] [,3] [,4] [,5] [,6]\n",
      "[1,]    1    9    5   21    9   33\n",
      "[2,]    4   16   12   32   20   48\n"
     ]
    }
   ],
   "source": [
    "# create a vector for matrix elements\n",
    "vector1=c(1,2,3,4,5,6,7,8,9,10,11,12)\n",
    "  \n",
    "# Create A matrix with 2 rows and 6 columns\n",
    "matrix1 <- matrix(vector1, nrow=2,ncol=6) \n",
    "  \n",
    "# multiplication vector\n",
    "mul_vec=c(1,2,3,4)\n",
    "  \n",
    "# print multiplication result\n",
    "print(matrix1*mul_vec)"
   ]
  },
  {
   "cell_type": "code",
   "execution_count": null,
   "id": "4918c7d7",
   "metadata": {},
   "outputs": [],
   "source": []
  },
  {
   "cell_type": "markdown",
   "id": "0a8069d3",
   "metadata": {},
   "source": [
    "3)\n",
    "(i) Write a R program to calculate the sum of series up to n\n",
    "terms. (For example, if n=5 and start=2 the series will become\n",
    "2 + 22 + 222 + 2222 + 22222 = 24690).(CO1)\n",
    "\n",
    "\n",
    "(ii) Write a R program to find those numbers which are\n",
    "divisible by 7 and multiple of 5, between 1500 and 2700\n",
    "(both included) and store the result set in a list.Print the\n",
    "5th and 7th element from the result set using Switch()\n",
    "function.(CO1)"
   ]
  },
  {
   "cell_type": "code",
   "execution_count": 83,
   "id": "812121cf",
   "metadata": {},
   "outputs": [
    {
     "name": "stdout",
     "output_type": "stream",
     "text": [
      "[1] 2\n",
      "[1] 24\n",
      "[1] 246\n",
      "[1] 2468\n",
      "[1] 24690\n"
     ]
    }
   ],
   "source": [
    "number_of_terms = 5\n",
    "sum1=0\n",
    "j=2\n",
    "for(i in seq(1,number_of_terms)){\n",
    "      num=j\n",
    "    sum1=sum1+num\n",
    "    j=j*10+2\n",
    "print(sum1)    \n",
    "}"
   ]
  },
  {
   "cell_type": "code",
   "execution_count": 84,
   "id": "a3e60925",
   "metadata": {},
   "outputs": [
    {
     "name": "stdout",
     "output_type": "stream",
     "text": [
      "[1] 1645\n",
      "[1] 1715\n",
      "integer(0)\n",
      "integer(0)\n",
      "integer(0)\n",
      "integer(0)\n",
      "integer(0)\n",
      "integer(0)\n",
      "integer(0)\n",
      "integer(0)\n",
      "integer(0)\n",
      "integer(0)\n",
      "integer(0)\n",
      "integer(0)\n",
      "integer(0)\n",
      "integer(0)\n",
      "integer(0)\n",
      "integer(0)\n",
      "integer(0)\n",
      "integer(0)\n",
      "integer(0)\n",
      "integer(0)\n",
      "integer(0)\n",
      "integer(0)\n",
      "integer(0)\n",
      "integer(0)\n",
      "integer(0)\n",
      "integer(0)\n",
      "integer(0)\n",
      "integer(0)\n",
      "integer(0)\n",
      "integer(0)\n",
      "integer(0)\n",
      "integer(0)\n",
      "integer(0)\n"
     ]
    }
   ],
   "source": [
    "nums = c()\n",
    "for (num in 1500 : 2700) {\n",
    " if (num %% 5 == 0 && num %% 7 == 0) {\n",
    " nums = append(nums, num)\n",
    " }\n",
    "}\n",
    "for (i in 1: length(nums)) {\n",
    " idx = switch(i, 5, 7)\n",
    " print(nums[idx])\n",
    "}\n"
   ]
  },
  {
   "cell_type": "markdown",
   "id": "bfa5e1dd",
   "metadata": {},
   "source": [
    "4) Raising a number n to power p is the same as multiplying n by\n",
    "itself p times. Write a function called power that takes two\n",
    "arguments, n and p and return the result. Use default argument\n",
    "as 2 for p, so that if this argument is omitted the number will\n",
    "be squared. Write a main function that gets value from the\n",
    "user to test power function. (CO2)"
   ]
  },
  {
   "cell_type": "code",
   "execution_count": 1,
   "id": "218dbd92",
   "metadata": {},
   "outputs": [
    {
     "name": "stdout",
     "output_type": "stream",
     "text": [
      "Enter Number : 2\n",
      "Enter Exponent : 4\n",
      "[1] 16\n"
     ]
    }
   ],
   "source": [
    "pow <- function(n, p = 2) {\n",
    " res <- 1\n",
    " for (i in 1:p) {\n",
    " res <- res * n\n",
    " }\n",
    " return(res)\n",
    "}\n",
    "main <- function() {\n",
    " n = as.integer(readline(\"Enter Number : \"))\n",
    " p = as.integer(readline(\"Enter Exponent : \"))\n",
    " print(pow(n, p))\n",
    "}\n",
    "main()"
   ]
  },
  {
   "cell_type": "markdown",
   "id": "1782754c",
   "metadata": {},
   "source": [
    "5) (i) Write a R code to check whether a given credit card number\n",
    "is valid or not by considering the following properties of the\n",
    "credit card number.(CO2)\n",
    "(Give a sample input for the credit card number)\n",
    "\n",
    "a. It will start with 4 or 7 or 9\n",
    "\n",
    "b. It will have 16 digits\n",
    "\n",
    "c. It will not end with 00\n",
    "\n",
    "(ii)Write a R code to check whether a given PAN card number is\n",
    "valid or not by considering the following properties of the PAN\n",
    "card number.(C02)\n",
    "\n",
    "(Give a sample input for the credit card number)\n",
    "\n",
    "a. It will have 10 character(alphanumeric)\n",
    "\n",
    "b.The first five characters are letters (in uppercase by default),\n",
    "followed by four numerals\n",
    "\n",
    "c. The last (tenth) character is a letter"
   ]
  },
  {
   "cell_type": "code",
   "execution_count": 28,
   "id": "643f80e7",
   "metadata": {},
   "outputs": [
    {
     "data": {
      "text/html": [
       "<ol>\n",
       "\t<li>'4794 1231 1243 4224'</li>\n",
       "</ol>\n"
      ],
      "text/latex": [
       "\\begin{enumerate}\n",
       "\\item '4794 1231 1243 4224'\n",
       "\\end{enumerate}\n"
      ],
      "text/markdown": [
       "1. '4794 1231 1243 4224'\n",
       "\n",
       "\n"
      ],
      "text/plain": [
       "[[1]]\n",
       "[1] \"4794 1231 1243 4224\"\n"
      ]
     },
     "metadata": {},
     "output_type": "display_data"
    }
   ],
   "source": [
    "library('stringr')\n",
    "# write a r code \n",
    "a=\"4794 1231 1243 4224\"\n",
    "str_extract_all(a,pattern=\"[479]{1}\\\\d{3}\\\\s\\\\d{4}\\\\s\\\\d{4}\\\\s\\\\d{2}[1-9]{2}\")"
   ]
  },
  {
   "cell_type": "code",
   "execution_count": 31,
   "id": "bb7108b8",
   "metadata": {},
   "outputs": [
    {
     "data": {
      "text/html": [
       "<ol>\n",
       "\t<li>'ABCDE1234Z'</li>\n",
       "</ol>\n"
      ],
      "text/latex": [
       "\\begin{enumerate}\n",
       "\\item 'ABCDE1234Z'\n",
       "\\end{enumerate}\n"
      ],
      "text/markdown": [
       "1. 'ABCDE1234Z'\n",
       "\n",
       "\n"
      ],
      "text/plain": [
       "[[1]]\n",
       "[1] \"ABCDE1234Z\"\n"
      ]
     },
     "metadata": {},
     "output_type": "display_data"
    }
   ],
   "source": [
    "a=\"ABCDE1234Z\"\n",
    "str_extract_all(a,pattern=\"[A-Z]{5}[0-9]{4}[A-Z]{1}\")"
   ]
  },
  {
   "cell_type": "markdown",
   "id": "be40a6af",
   "metadata": {},
   "source": [
    "6) (i) Date 1 - \"2022-01-07\"\n",
    "Date 2 - \"2000-12-17\"\n",
    "Calculate the number of days and number of years between\n",
    "the two Dates.\n",
    "\n",
    "(ii)Convert the given factor into date format.\n",
    "(\"2021-05-02\",\"2022-01-07\", \"2000-12-17\",\n",
    "\"2021-03-23\", \"2021-04-11\") (CO2)"
   ]
  },
  {
   "cell_type": "code",
   "execution_count": 52,
   "id": "2e917efc",
   "metadata": {},
   "outputs": [
    {
     "data": {
      "text/plain": [
       "Time difference of 7691 days"
      ]
     },
     "metadata": {},
     "output_type": "display_data"
    }
   ],
   "source": [
    "date1=as.Date(\"2022-01-07\")\n",
    "date2=as.Date(\"2000-12-17\")\n",
    "date1-date2"
   ]
  },
  {
   "cell_type": "code",
   "execution_count": 56,
   "id": "f9201b43",
   "metadata": {},
   "outputs": [
    {
     "data": {
      "text/html": [
       "22"
      ],
      "text/latex": [
       "22"
      ],
      "text/markdown": [
       "22"
      ],
      "text/plain": [
       "[1] 22"
      ]
     },
     "metadata": {},
     "output_type": "display_data"
    }
   ],
   "source": [
    "a = seq(from = date2, to = date1, by = 'year')\n",
    "length(a)"
   ]
  },
  {
   "cell_type": "code",
   "execution_count": 59,
   "id": "a9c3b6d3",
   "metadata": {},
   "outputs": [
    {
     "data": {
      "text/html": [
       "<table class=\"dataframe\">\n",
       "<caption>A data.frame: 5 × 1</caption>\n",
       "<thead>\n",
       "\t<tr><th scope=col>df</th></tr>\n",
       "\t<tr><th scope=col>&lt;chr&gt;</th></tr>\n",
       "</thead>\n",
       "<tbody>\n",
       "\t<tr><td>2021-05-02</td></tr>\n",
       "\t<tr><td>2022-01-07</td></tr>\n",
       "\t<tr><td>2000-12-17</td></tr>\n",
       "\t<tr><td>2021-03-23</td></tr>\n",
       "\t<tr><td>2021-04-11</td></tr>\n",
       "</tbody>\n",
       "</table>\n"
      ],
      "text/latex": [
       "A data.frame: 5 × 1\n",
       "\\begin{tabular}{l}\n",
       " df\\\\\n",
       " <chr>\\\\\n",
       "\\hline\n",
       "\t 2021-05-02\\\\\n",
       "\t 2022-01-07\\\\\n",
       "\t 2000-12-17\\\\\n",
       "\t 2021-03-23\\\\\n",
       "\t 2021-04-11\\\\\n",
       "\\end{tabular}\n"
      ],
      "text/markdown": [
       "\n",
       "A data.frame: 5 × 1\n",
       "\n",
       "| df &lt;chr&gt; |\n",
       "|---|\n",
       "| 2021-05-02 |\n",
       "| 2022-01-07 |\n",
       "| 2000-12-17 |\n",
       "| 2021-03-23 |\n",
       "| 2021-04-11 |\n",
       "\n"
      ],
      "text/plain": [
       "  df        \n",
       "1 2021-05-02\n",
       "2 2022-01-07\n",
       "3 2000-12-17\n",
       "4 2021-03-23\n",
       "5 2021-04-11"
      ]
     },
     "metadata": {},
     "output_type": "display_data"
    }
   ],
   "source": [
    "date=data.frame(df=c(\"2021-05-02\",\"2022-01-07\",\"2000-12-17\",\"2021-03-23\",\"2021-04-11\"))\n",
    "date"
   ]
  },
  {
   "cell_type": "code",
   "execution_count": 60,
   "id": "d1105fe4",
   "metadata": {},
   "outputs": [],
   "source": [
    "date$df = as.Date(date$df, format = '%Y-%m-%d')"
   ]
  },
  {
   "cell_type": "markdown",
   "id": "16e3f9d1",
   "metadata": {},
   "source": [
    "7) Plot the following graphs using the diamond.csv dataset.\n",
    "(i)Create Scatter plot.\n",
    "(ii)Create a bar chart using ggplot.\n",
    "(iii)Create a 3D pie chart for the “Cut” column in the dataset."
   ]
  },
  {
   "cell_type": "code",
   "execution_count": 3,
   "id": "067d2cbe",
   "metadata": {},
   "outputs": [],
   "source": [
    "df=read.csv('diamonds.csv')"
   ]
  },
  {
   "cell_type": "code",
   "execution_count": 65,
   "id": "9867cf81",
   "metadata": {},
   "outputs": [
    {
     "data": {
      "image/png": "[encoded data removed]",
      "text/plain": [
       "Plot with title \"carat vs price\""
      ]
     },
     "metadata": {
      "image/png": {
       "height": 420,
       "width": 420
      }
     },
     "output_type": "display_data"
    }
   ],
   "source": [
    "library(plotrix)\n",
    "plot(x=df$carat,y=df$price,xlab=\"CARAT\",ylab=\"PRICE\",main=\"carat vs price\",col=\"red\",pch=2) \n",
    "# scatter plot for price and carat"
   ]
  },
  {
   "cell_type": "code",
   "execution_count": 66,
   "id": "cc9f232f",
   "metadata": {},
   "outputs": [
    {
     "data": {
      "image/png": "[encoded data removed]",
      "text/plain": [
       "plot without title"
      ]
     },
     "metadata": {
      "image/png": {
       "height": 420,
       "width": 420
      }
     },
     "output_type": "display_data"
    }
   ],
   "source": [
    "library('ggplot2')\n",
    "p=ggplot(data=df,aes(x=carat,y=price))+geom_bar(stat='identity')\n",
    "p\n"
   ]
  },
  {
   "cell_type": "code",
   "execution_count": 80,
   "id": "8166bb57",
   "metadata": {},
   "outputs": [
    {
     "ename": "ERROR",
     "evalue": "Error in pie3D(libis, labels = slices, main = \"pie chart of cuts in diamonds\"): pie3D: x values must be positive numbers\n",
     "output_type": "error",
     "traceback": [
      "Error in pie3D(libis, labels = slices, main = \"pie chart of cuts in diamonds\"): pie3D: x values must be positive numbers\nTraceback:\n",
      "1. pie3D(libis, labels = slices, main = \"pie chart of cuts in diamonds\")",
      "2. stop(\"pie3D: x values must be positive numbers\")"
     ]
    }
   ],
   "source": [
    "library(plotrix)\n",
    "libis = c(\"Ieal\",\"Very Good\",\"Premium\",\"Good\",\"Fair\")\n",
    "slices=df$cut\n",
    "\n",
    "pie3D(libis,labels = slices,main=\"pie chart of cuts in diamonds\")"
   ]
  },
  {
   "cell_type": "code",
   "execution_count": 5,
   "id": "e9fffafa",
   "metadata": {},
   "outputs": [
    {
     "ename": "ERROR",
     "evalue": "Error in parse(text = x, srcfile = src): <text>:4:0: unexpected end of input\n2: counts = table(diamonds$cut)\n3: pie3D(table(df$cut), labels = names(counts), main = \"Diamond Cuts\"\n  ^\n",
     "output_type": "error",
     "traceback": [
      "Error in parse(text = x, srcfile = src): <text>:4:0: unexpected end of input\n2: counts = table(diamonds$cut)\n3: pie3D(table(df$cut), labels = names(counts), main = \"Diamond Cuts\"\n  ^\nTraceback:\n"
     ]
    }
   ],
   "source": [
    "#library(plotrix)\n",
    "#counts = table(diamonds$cut)\n",
    "#pie3D(table(df$cut), labels = names(counts), main = \"Diamond Cuts\""
   ]
  },
  {
   "cell_type": "code",
   "execution_count": 4,
   "id": "b24e137a",
   "metadata": {},
   "outputs": [
    {
     "data": {
      "text/html": [
       "<table class=\"dataframe\">\n",
       "<caption>A data.frame: 53940 × 10</caption>\n",
       "<thead>\n",
       "\t<tr><th scope=col>carat</th><th scope=col>cut</th><th scope=col>color</th><th scope=col>clarity</th><th scope=col>depth</th><th scope=col>table</th><th scope=col>price</th><th scope=col>x</th><th scope=col>y</th><th scope=col>z</th></tr>\n",
       "\t<tr><th scope=col>&lt;dbl&gt;</th><th scope=col>&lt;chr&gt;</th><th scope=col>&lt;chr&gt;</th><th scope=col>&lt;chr&gt;</th><th scope=col>&lt;dbl&gt;</th><th scope=col>&lt;dbl&gt;</th><th scope=col>&lt;int&gt;</th><th scope=col>&lt;dbl&gt;</th><th scope=col>&lt;dbl&gt;</th><th scope=col>&lt;dbl&gt;</th></tr>\n",
       "</thead>\n",
       "<tbody>\n",
       "\t<tr><td>0.23</td><td>Ideal    </td><td>E</td><td>SI2 </td><td>61.5</td><td>55</td><td>326</td><td>3.95</td><td>3.98</td><td>2.43</td></tr>\n",
       "\t<tr><td>0.21</td><td>Premium  </td><td>E</td><td>SI1 </td><td>59.8</td><td>61</td><td>326</td><td>3.89</td><td>3.84</td><td>2.31</td></tr>\n",
       "\t<tr><td>0.23</td><td>Good     </td><td>E</td><td>VS1 </td><td>56.9</td><td>65</td><td>327</td><td>4.05</td><td>4.07</td><td>2.31</td></tr>\n",
       "\t<tr><td>0.29</td><td>Premium  </td><td>I</td><td>VS2 </td><td>62.4</td><td>58</td><td>334</td><td>4.20</td><td>4.23</td><td>2.63</td></tr>\n",
       "\t<tr><td>0.31</td><td>Good     </td><td>J</td><td>SI2 </td><td>63.3</td><td>58</td><td>335</td><td>4.34</td><td>4.35</td><td>2.75</td></tr>\n",
       "\t<tr><td>0.24</td><td>Very Good</td><td>J</td><td>VVS2</td><td>62.8</td><td>57</td><td>336</td><td>3.94</td><td>3.96</td><td>2.48</td></tr>\n",
       "\t<tr><td>0.24</td><td>Very Good</td><td>I</td><td>VVS1</td><td>62.3</td><td>57</td><td>336</td><td>3.95</td><td>3.98</td><td>2.47</td></tr>\n",
       "\t<tr><td>0.26</td><td>Very Good</td><td>H</td><td>SI1 </td><td>61.9</td><td>55</td><td>337</td><td>4.07</td><td>4.11</td><td>2.53</td></tr>\n",
       "\t<tr><td>0.22</td><td>Fair     </td><td>E</td><td>VS2 </td><td>65.1</td><td>61</td><td>337</td><td>3.87</td><td>3.78</td><td>2.49</td></tr>\n",
       "\t<tr><td>0.23</td><td>Very Good</td><td>H</td><td>VS1 </td><td>59.4</td><td>61</td><td>338</td><td>4.00</td><td>4.05</td><td>2.39</td></tr>\n",
       "\t<tr><td>0.30</td><td>Good     </td><td>J</td><td>SI1 </td><td>64.0</td><td>55</td><td>339</td><td>4.25</td><td>4.28</td><td>2.73</td></tr>\n",
       "\t<tr><td>0.23</td><td>Ideal    </td><td>J</td><td>VS1 </td><td>62.8</td><td>56</td><td>340</td><td>3.93</td><td>3.90</td><td>2.46</td></tr>\n",
       "\t<tr><td>0.22</td><td>Premium  </td><td>F</td><td>SI1 </td><td>60.4</td><td>61</td><td>342</td><td>3.88</td><td>3.84</td><td>2.33</td></tr>\n",
       "\t<tr><td>0.31</td><td>Ideal    </td><td>J</td><td>SI2 </td><td>62.2</td><td>54</td><td>344</td><td>4.35</td><td>4.37</td><td>2.71</td></tr>\n",
       "\t<tr><td>0.20</td><td>Premium  </td><td>E</td><td>SI2 </td><td>60.2</td><td>62</td><td>345</td><td>3.79</td><td>3.75</td><td>2.27</td></tr>\n",
       "\t<tr><td>0.32</td><td>Premium  </td><td>E</td><td>I1  </td><td>60.9</td><td>58</td><td>345</td><td>4.38</td><td>4.42</td><td>2.68</td></tr>\n",
       "\t<tr><td>0.30</td><td>Ideal    </td><td>I</td><td>SI2 </td><td>62.0</td><td>54</td><td>348</td><td>4.31</td><td>4.34</td><td>2.68</td></tr>\n",
       "\t<tr><td>0.30</td><td>Good     </td><td>J</td><td>SI1 </td><td>63.4</td><td>54</td><td>351</td><td>4.23</td><td>4.29</td><td>2.70</td></tr>\n",
       "\t<tr><td>0.30</td><td>Good     </td><td>J</td><td>SI1 </td><td>63.8</td><td>56</td><td>351</td><td>4.23</td><td>4.26</td><td>2.71</td></tr>\n",
       "\t<tr><td>0.30</td><td>Very Good</td><td>J</td><td>SI1 </td><td>62.7</td><td>59</td><td>351</td><td>4.21</td><td>4.27</td><td>2.66</td></tr>\n",
       "\t<tr><td>0.30</td><td>Good     </td><td>I</td><td>SI2 </td><td>63.3</td><td>56</td><td>351</td><td>4.26</td><td>4.30</td><td>2.71</td></tr>\n",
       "\t<tr><td>0.23</td><td>Very Good</td><td>E</td><td>VS2 </td><td>63.8</td><td>55</td><td>352</td><td>3.85</td><td>3.92</td><td>2.48</td></tr>\n",
       "\t<tr><td>0.23</td><td>Very Good</td><td>H</td><td>VS1 </td><td>61.0</td><td>57</td><td>353</td><td>3.94</td><td>3.96</td><td>2.41</td></tr>\n",
       "\t<tr><td>0.31</td><td>Very Good</td><td>J</td><td>SI1 </td><td>59.4</td><td>62</td><td>353</td><td>4.39</td><td>4.43</td><td>2.62</td></tr>\n",
       "\t<tr><td>0.31</td><td>Very Good</td><td>J</td><td>SI1 </td><td>58.1</td><td>62</td><td>353</td><td>4.44</td><td>4.47</td><td>2.59</td></tr>\n",
       "\t<tr><td>0.23</td><td>Very Good</td><td>G</td><td>VVS2</td><td>60.4</td><td>58</td><td>354</td><td>3.97</td><td>4.01</td><td>2.41</td></tr>\n",
       "\t<tr><td>0.24</td><td>Premium  </td><td>I</td><td>VS1 </td><td>62.5</td><td>57</td><td>355</td><td>3.97</td><td>3.94</td><td>2.47</td></tr>\n",
       "\t<tr><td>0.30</td><td>Very Good</td><td>J</td><td>VS2 </td><td>62.2</td><td>57</td><td>357</td><td>4.28</td><td>4.30</td><td>2.67</td></tr>\n",
       "\t<tr><td>0.23</td><td>Very Good</td><td>D</td><td>VS2 </td><td>60.5</td><td>61</td><td>357</td><td>3.96</td><td>3.97</td><td>2.40</td></tr>\n",
       "\t<tr><td>0.23</td><td>Very Good</td><td>F</td><td>VS1 </td><td>60.9</td><td>57</td><td>357</td><td>3.96</td><td>3.99</td><td>2.42</td></tr>\n",
       "\t<tr><td>⋮</td><td>⋮</td><td>⋮</td><td>⋮</td><td>⋮</td><td>⋮</td><td>⋮</td><td>⋮</td><td>⋮</td><td>⋮</td></tr>\n",
       "\t<tr><td>0.70</td><td>Premium  </td><td>E</td><td>SI1 </td><td>60.5</td><td>58</td><td>2753</td><td>5.74</td><td>5.77</td><td>3.48</td></tr>\n",
       "\t<tr><td>0.57</td><td>Premium  </td><td>E</td><td>IF  </td><td>59.8</td><td>60</td><td>2753</td><td>5.43</td><td>5.38</td><td>3.23</td></tr>\n",
       "\t<tr><td>0.61</td><td>Premium  </td><td>F</td><td>VVS1</td><td>61.8</td><td>59</td><td>2753</td><td>5.48</td><td>5.40</td><td>3.36</td></tr>\n",
       "\t<tr><td>0.80</td><td>Good     </td><td>G</td><td>VS2 </td><td>64.2</td><td>58</td><td>2753</td><td>5.84</td><td>5.81</td><td>3.74</td></tr>\n",
       "\t<tr><td>0.84</td><td>Good     </td><td>I</td><td>VS1 </td><td>63.7</td><td>59</td><td>2753</td><td>5.94</td><td>5.90</td><td>3.77</td></tr>\n",
       "\t<tr><td>0.77</td><td>Ideal    </td><td>E</td><td>SI2 </td><td>62.1</td><td>56</td><td>2753</td><td>5.84</td><td>5.86</td><td>3.63</td></tr>\n",
       "\t<tr><td>0.74</td><td>Good     </td><td>D</td><td>SI1 </td><td>63.1</td><td>59</td><td>2753</td><td>5.71</td><td>5.74</td><td>3.61</td></tr>\n",
       "\t<tr><td>0.90</td><td>Very Good</td><td>J</td><td>SI1 </td><td>63.2</td><td>60</td><td>2753</td><td>6.12</td><td>6.09</td><td>3.86</td></tr>\n",
       "\t<tr><td>0.76</td><td>Premium  </td><td>I</td><td>VS1 </td><td>59.3</td><td>62</td><td>2753</td><td>5.93</td><td>5.85</td><td>3.49</td></tr>\n",
       "\t<tr><td>0.76</td><td>Ideal    </td><td>I</td><td>VVS1</td><td>62.2</td><td>55</td><td>2753</td><td>5.89</td><td>5.87</td><td>3.66</td></tr>\n",
       "\t<tr><td>0.70</td><td>Very Good</td><td>E</td><td>VS2 </td><td>62.4</td><td>60</td><td>2755</td><td>5.57</td><td>5.61</td><td>3.49</td></tr>\n",
       "\t<tr><td>0.70</td><td>Very Good</td><td>E</td><td>VS2 </td><td>62.8</td><td>60</td><td>2755</td><td>5.59</td><td>5.65</td><td>3.53</td></tr>\n",
       "\t<tr><td>0.70</td><td>Very Good</td><td>D</td><td>VS1 </td><td>63.1</td><td>59</td><td>2755</td><td>5.67</td><td>5.58</td><td>3.55</td></tr>\n",
       "\t<tr><td>0.73</td><td>Ideal    </td><td>I</td><td>VS2 </td><td>61.3</td><td>56</td><td>2756</td><td>5.80</td><td>5.84</td><td>3.57</td></tr>\n",
       "\t<tr><td>0.73</td><td>Ideal    </td><td>I</td><td>VS2 </td><td>61.6</td><td>55</td><td>2756</td><td>5.82</td><td>5.84</td><td>3.59</td></tr>\n",
       "\t<tr><td>0.79</td><td>Ideal    </td><td>I</td><td>SI1 </td><td>61.6</td><td>56</td><td>2756</td><td>5.95</td><td>5.97</td><td>3.67</td></tr>\n",
       "\t<tr><td>0.71</td><td>Ideal    </td><td>E</td><td>SI1 </td><td>61.9</td><td>56</td><td>2756</td><td>5.71</td><td>5.73</td><td>3.54</td></tr>\n",
       "\t<tr><td>0.79</td><td>Good     </td><td>F</td><td>SI1 </td><td>58.1</td><td>59</td><td>2756</td><td>6.06</td><td>6.13</td><td>3.54</td></tr>\n",
       "\t<tr><td>0.79</td><td>Premium  </td><td>E</td><td>SI2 </td><td>61.4</td><td>58</td><td>2756</td><td>6.03</td><td>5.96</td><td>3.68</td></tr>\n",
       "\t<tr><td>0.71</td><td>Ideal    </td><td>G</td><td>VS1 </td><td>61.4</td><td>56</td><td>2756</td><td>5.76</td><td>5.73</td><td>3.53</td></tr>\n",
       "\t<tr><td>0.71</td><td>Premium  </td><td>E</td><td>SI1 </td><td>60.5</td><td>55</td><td>2756</td><td>5.79</td><td>5.74</td><td>3.49</td></tr>\n",
       "\t<tr><td>0.71</td><td>Premium  </td><td>F</td><td>SI1 </td><td>59.8</td><td>62</td><td>2756</td><td>5.74</td><td>5.73</td><td>3.43</td></tr>\n",
       "\t<tr><td>0.70</td><td>Very Good</td><td>E</td><td>VS2 </td><td>60.5</td><td>59</td><td>2757</td><td>5.71</td><td>5.76</td><td>3.47</td></tr>\n",
       "\t<tr><td>0.70</td><td>Very Good</td><td>E</td><td>VS2 </td><td>61.2</td><td>59</td><td>2757</td><td>5.69</td><td>5.72</td><td>3.49</td></tr>\n",
       "\t<tr><td>0.72</td><td>Premium  </td><td>D</td><td>SI1 </td><td>62.7</td><td>59</td><td>2757</td><td>5.69</td><td>5.73</td><td>3.58</td></tr>\n",
       "\t<tr><td>0.72</td><td>Ideal    </td><td>D</td><td>SI1 </td><td>60.8</td><td>57</td><td>2757</td><td>5.75</td><td>5.76</td><td>3.50</td></tr>\n",
       "\t<tr><td>0.72</td><td>Good     </td><td>D</td><td>SI1 </td><td>63.1</td><td>55</td><td>2757</td><td>5.69</td><td>5.75</td><td>3.61</td></tr>\n",
       "\t<tr><td>0.70</td><td>Very Good</td><td>D</td><td>SI1 </td><td>62.8</td><td>60</td><td>2757</td><td>5.66</td><td>5.68</td><td>3.56</td></tr>\n",
       "\t<tr><td>0.86</td><td>Premium  </td><td>H</td><td>SI2 </td><td>61.0</td><td>58</td><td>2757</td><td>6.15</td><td>6.12</td><td>3.74</td></tr>\n",
       "\t<tr><td>0.75</td><td>Ideal    </td><td>D</td><td>SI2 </td><td>62.2</td><td>55</td><td>2757</td><td>5.83</td><td>5.87</td><td>3.64</td></tr>\n",
       "</tbody>\n",
       "</table>\n"
      ],
      "text/latex": [
       "A data.frame: 53940 × 10\n",
       "\\begin{tabular}{llllllllll}\n",
       " carat & cut & color & clarity & depth & table & price & x & y & z\\\\\n",
       " <dbl> & <chr> & <chr> & <chr> & <dbl> & <dbl> & <int> & <dbl> & <dbl> & <dbl>\\\\\n",
       "\\hline\n",
       "\t 0.23 & Ideal     & E & SI2  & 61.5 & 55 & 326 & 3.95 & 3.98 & 2.43\\\\\n",
       "\t 0.21 & Premium   & E & SI1  & 59.8 & 61 & 326 & 3.89 & 3.84 & 2.31\\\\\n",
       "\t 0.23 & Good      & E & VS1  & 56.9 & 65 & 327 & 4.05 & 4.07 & 2.31\\\\\n",
       "\t 0.29 & Premium   & I & VS2  & 62.4 & 58 & 334 & 4.20 & 4.23 & 2.63\\\\\n",
       "\t 0.31 & Good      & J & SI2  & 63.3 & 58 & 335 & 4.34 & 4.35 & 2.75\\\\\n",
       "\t 0.24 & Very Good & J & VVS2 & 62.8 & 57 & 336 & 3.94 & 3.96 & 2.48\\\\\n",
       "\t 0.24 & Very Good & I & VVS1 & 62.3 & 57 & 336 & 3.95 & 3.98 & 2.47\\\\\n",
       "\t 0.26 & Very Good & H & SI1  & 61.9 & 55 & 337 & 4.07 & 4.11 & 2.53\\\\\n",
       "\t 0.22 & Fair      & E & VS2  & 65.1 & 61 & 337 & 3.87 & 3.78 & 2.49\\\\\n",
       "\t 0.23 & Very Good & H & VS1  & 59.4 & 61 & 338 & 4.00 & 4.05 & 2.39\\\\\n",
       "\t 0.30 & Good      & J & SI1  & 64.0 & 55 & 339 & 4.25 & 4.28 & 2.73\\\\\n",
       "\t 0.23 & Ideal     & J & VS1  & 62.8 & 56 & 340 & 3.93 & 3.90 & 2.46\\\\\n",
       "\t 0.22 & Premium   & F & SI1  & 60.4 & 61 & 342 & 3.88 & 3.84 & 2.33\\\\\n",
       "\t 0.31 & Ideal     & J & SI2  & 62.2 & 54 & 344 & 4.35 & 4.37 & 2.71\\\\\n",
       "\t 0.20 & Premium   & E & SI2  & 60.2 & 62 & 345 & 3.79 & 3.75 & 2.27\\\\\n",
       "\t 0.32 & Premium   & E & I1   & 60.9 & 58 & 345 & 4.38 & 4.42 & 2.68\\\\\n",
       "\t 0.30 & Ideal     & I & SI2  & 62.0 & 54 & 348 & 4.31 & 4.34 & 2.68\\\\\n",
       "\t 0.30 & Good      & J & SI1  & 63.4 & 54 & 351 & 4.23 & 4.29 & 2.70\\\\\n",
       "\t 0.30 & Good      & J & SI1  & 63.8 & 56 & 351 & 4.23 & 4.26 & 2.71\\\\\n",
       "\t 0.30 & Very Good & J & SI1  & 62.7 & 59 & 351 & 4.21 & 4.27 & 2.66\\\\\n",
       "\t 0.30 & Good      & I & SI2  & 63.3 & 56 & 351 & 4.26 & 4.30 & 2.71\\\\\n",
       "\t 0.23 & Very Good & E & VS2  & 63.8 & 55 & 352 & 3.85 & 3.92 & 2.48\\\\\n",
       "\t 0.23 & Very Good & H & VS1  & 61.0 & 57 & 353 & 3.94 & 3.96 & 2.41\\\\\n",
       "\t 0.31 & Very Good & J & SI1  & 59.4 & 62 & 353 & 4.39 & 4.43 & 2.62\\\\\n",
       "\t 0.31 & Very Good & J & SI1  & 58.1 & 62 & 353 & 4.44 & 4.47 & 2.59\\\\\n",
       "\t 0.23 & Very Good & G & VVS2 & 60.4 & 58 & 354 & 3.97 & 4.01 & 2.41\\\\\n",
       "\t 0.24 & Premium   & I & VS1  & 62.5 & 57 & 355 & 3.97 & 3.94 & 2.47\\\\\n",
       "\t 0.30 & Very Good & J & VS2  & 62.2 & 57 & 357 & 4.28 & 4.30 & 2.67\\\\\n",
       "\t 0.23 & Very Good & D & VS2  & 60.5 & 61 & 357 & 3.96 & 3.97 & 2.40\\\\\n",
       "\t 0.23 & Very Good & F & VS1  & 60.9 & 57 & 357 & 3.96 & 3.99 & 2.42\\\\\n",
       "\t ⋮ & ⋮ & ⋮ & ⋮ & ⋮ & ⋮ & ⋮ & ⋮ & ⋮ & ⋮\\\\\n",
       "\t 0.70 & Premium   & E & SI1  & 60.5 & 58 & 2753 & 5.74 & 5.77 & 3.48\\\\\n",
       "\t 0.57 & Premium   & E & IF   & 59.8 & 60 & 2753 & 5.43 & 5.38 & 3.23\\\\\n",
       "\t 0.61 & Premium   & F & VVS1 & 61.8 & 59 & 2753 & 5.48 & 5.40 & 3.36\\\\\n",
       "\t 0.80 & Good      & G & VS2  & 64.2 & 58 & 2753 & 5.84 & 5.81 & 3.74\\\\\n",
       "\t 0.84 & Good      & I & VS1  & 63.7 & 59 & 2753 & 5.94 & 5.90 & 3.77\\\\\n",
       "\t 0.77 & Ideal     & E & SI2  & 62.1 & 56 & 2753 & 5.84 & 5.86 & 3.63\\\\\n",
       "\t 0.74 & Good      & D & SI1  & 63.1 & 59 & 2753 & 5.71 & 5.74 & 3.61\\\\\n",
       "\t 0.90 & Very Good & J & SI1  & 63.2 & 60 & 2753 & 6.12 & 6.09 & 3.86\\\\\n",
       "\t 0.76 & Premium   & I & VS1  & 59.3 & 62 & 2753 & 5.93 & 5.85 & 3.49\\\\\n",
       "\t 0.76 & Ideal     & I & VVS1 & 62.2 & 55 & 2753 & 5.89 & 5.87 & 3.66\\\\\n",
       "\t 0.70 & Very Good & E & VS2  & 62.4 & 60 & 2755 & 5.57 & 5.61 & 3.49\\\\\n",
       "\t 0.70 & Very Good & E & VS2  & 62.8 & 60 & 2755 & 5.59 & 5.65 & 3.53\\\\\n",
       "\t 0.70 & Very Good & D & VS1  & 63.1 & 59 & 2755 & 5.67 & 5.58 & 3.55\\\\\n",
       "\t 0.73 & Ideal     & I & VS2  & 61.3 & 56 & 2756 & 5.80 & 5.84 & 3.57\\\\\n",
       "\t 0.73 & Ideal     & I & VS2  & 61.6 & 55 & 2756 & 5.82 & 5.84 & 3.59\\\\\n",
       "\t 0.79 & Ideal     & I & SI1  & 61.6 & 56 & 2756 & 5.95 & 5.97 & 3.67\\\\\n",
       "\t 0.71 & Ideal     & E & SI1  & 61.9 & 56 & 2756 & 5.71 & 5.73 & 3.54\\\\\n",
       "\t 0.79 & Good      & F & SI1  & 58.1 & 59 & 2756 & 6.06 & 6.13 & 3.54\\\\\n",
       "\t 0.79 & Premium   & E & SI2  & 61.4 & 58 & 2756 & 6.03 & 5.96 & 3.68\\\\\n",
       "\t 0.71 & Ideal     & G & VS1  & 61.4 & 56 & 2756 & 5.76 & 5.73 & 3.53\\\\\n",
       "\t 0.71 & Premium   & E & SI1  & 60.5 & 55 & 2756 & 5.79 & 5.74 & 3.49\\\\\n",
       "\t 0.71 & Premium   & F & SI1  & 59.8 & 62 & 2756 & 5.74 & 5.73 & 3.43\\\\\n",
       "\t 0.70 & Very Good & E & VS2  & 60.5 & 59 & 2757 & 5.71 & 5.76 & 3.47\\\\\n",
       "\t 0.70 & Very Good & E & VS2  & 61.2 & 59 & 2757 & 5.69 & 5.72 & 3.49\\\\\n",
       "\t 0.72 & Premium   & D & SI1  & 62.7 & 59 & 2757 & 5.69 & 5.73 & 3.58\\\\\n",
       "\t 0.72 & Ideal     & D & SI1  & 60.8 & 57 & 2757 & 5.75 & 5.76 & 3.50\\\\\n",
       "\t 0.72 & Good      & D & SI1  & 63.1 & 55 & 2757 & 5.69 & 5.75 & 3.61\\\\\n",
       "\t 0.70 & Very Good & D & SI1  & 62.8 & 60 & 2757 & 5.66 & 5.68 & 3.56\\\\\n",
       "\t 0.86 & Premium   & H & SI2  & 61.0 & 58 & 2757 & 6.15 & 6.12 & 3.74\\\\\n",
       "\t 0.75 & Ideal     & D & SI2  & 62.2 & 55 & 2757 & 5.83 & 5.87 & 3.64\\\\\n",
       "\\end{tabular}\n"
      ],
      "text/markdown": [
       "\n",
       "A data.frame: 53940 × 10\n",
       "\n",
       "| carat &lt;dbl&gt; | cut &lt;chr&gt; | color &lt;chr&gt; | clarity &lt;chr&gt; | depth &lt;dbl&gt; | table &lt;dbl&gt; | price &lt;int&gt; | x &lt;dbl&gt; | y &lt;dbl&gt; | z &lt;dbl&gt; |\n",
       "|---|---|---|---|---|---|---|---|---|---|\n",
       "| 0.23 | Ideal     | E | SI2  | 61.5 | 55 | 326 | 3.95 | 3.98 | 2.43 |\n",
       "| 0.21 | Premium   | E | SI1  | 59.8 | 61 | 326 | 3.89 | 3.84 | 2.31 |\n",
       "| 0.23 | Good      | E | VS1  | 56.9 | 65 | 327 | 4.05 | 4.07 | 2.31 |\n",
       "| 0.29 | Premium   | I | VS2  | 62.4 | 58 | 334 | 4.20 | 4.23 | 2.63 |\n",
       "| 0.31 | Good      | J | SI2  | 63.3 | 58 | 335 | 4.34 | 4.35 | 2.75 |\n",
       "| 0.24 | Very Good | J | VVS2 | 62.8 | 57 | 336 | 3.94 | 3.96 | 2.48 |\n",
       "| 0.24 | Very Good | I | VVS1 | 62.3 | 57 | 336 | 3.95 | 3.98 | 2.47 |\n",
       "| 0.26 | Very Good | H | SI1  | 61.9 | 55 | 337 | 4.07 | 4.11 | 2.53 |\n",
       "| 0.22 | Fair      | E | VS2  | 65.1 | 61 | 337 | 3.87 | 3.78 | 2.49 |\n",
       "| 0.23 | Very Good | H | VS1  | 59.4 | 61 | 338 | 4.00 | 4.05 | 2.39 |\n",
       "| 0.30 | Good      | J | SI1  | 64.0 | 55 | 339 | 4.25 | 4.28 | 2.73 |\n",
       "| 0.23 | Ideal     | J | VS1  | 62.8 | 56 | 340 | 3.93 | 3.90 | 2.46 |\n",
       "| 0.22 | Premium   | F | SI1  | 60.4 | 61 | 342 | 3.88 | 3.84 | 2.33 |\n",
       "| 0.31 | Ideal     | J | SI2  | 62.2 | 54 | 344 | 4.35 | 4.37 | 2.71 |\n",
       "| 0.20 | Premium   | E | SI2  | 60.2 | 62 | 345 | 3.79 | 3.75 | 2.27 |\n",
       "| 0.32 | Premium   | E | I1   | 60.9 | 58 | 345 | 4.38 | 4.42 | 2.68 |\n",
       "| 0.30 | Ideal     | I | SI2  | 62.0 | 54 | 348 | 4.31 | 4.34 | 2.68 |\n",
       "| 0.30 | Good      | J | SI1  | 63.4 | 54 | 351 | 4.23 | 4.29 | 2.70 |\n",
       "| 0.30 | Good      | J | SI1  | 63.8 | 56 | 351 | 4.23 | 4.26 | 2.71 |\n",
       "| 0.30 | Very Good | J | SI1  | 62.7 | 59 | 351 | 4.21 | 4.27 | 2.66 |\n",
       "| 0.30 | Good      | I | SI2  | 63.3 | 56 | 351 | 4.26 | 4.30 | 2.71 |\n",
       "| 0.23 | Very Good | E | VS2  | 63.8 | 55 | 352 | 3.85 | 3.92 | 2.48 |\n",
       "| 0.23 | Very Good | H | VS1  | 61.0 | 57 | 353 | 3.94 | 3.96 | 2.41 |\n",
       "| 0.31 | Very Good | J | SI1  | 59.4 | 62 | 353 | 4.39 | 4.43 | 2.62 |\n",
       "| 0.31 | Very Good | J | SI1  | 58.1 | 62 | 353 | 4.44 | 4.47 | 2.59 |\n",
       "| 0.23 | Very Good | G | VVS2 | 60.4 | 58 | 354 | 3.97 | 4.01 | 2.41 |\n",
       "| 0.24 | Premium   | I | VS1  | 62.5 | 57 | 355 | 3.97 | 3.94 | 2.47 |\n",
       "| 0.30 | Very Good | J | VS2  | 62.2 | 57 | 357 | 4.28 | 4.30 | 2.67 |\n",
       "| 0.23 | Very Good | D | VS2  | 60.5 | 61 | 357 | 3.96 | 3.97 | 2.40 |\n",
       "| 0.23 | Very Good | F | VS1  | 60.9 | 57 | 357 | 3.96 | 3.99 | 2.42 |\n",
       "| ⋮ | ⋮ | ⋮ | ⋮ | ⋮ | ⋮ | ⋮ | ⋮ | ⋮ | ⋮ |\n",
       "| 0.70 | Premium   | E | SI1  | 60.5 | 58 | 2753 | 5.74 | 5.77 | 3.48 |\n",
       "| 0.57 | Premium   | E | IF   | 59.8 | 60 | 2753 | 5.43 | 5.38 | 3.23 |\n",
       "| 0.61 | Premium   | F | VVS1 | 61.8 | 59 | 2753 | 5.48 | 5.40 | 3.36 |\n",
       "| 0.80 | Good      | G | VS2  | 64.2 | 58 | 2753 | 5.84 | 5.81 | 3.74 |\n",
       "| 0.84 | Good      | I | VS1  | 63.7 | 59 | 2753 | 5.94 | 5.90 | 3.77 |\n",
       "| 0.77 | Ideal     | E | SI2  | 62.1 | 56 | 2753 | 5.84 | 5.86 | 3.63 |\n",
       "| 0.74 | Good      | D | SI1  | 63.1 | 59 | 2753 | 5.71 | 5.74 | 3.61 |\n",
       "| 0.90 | Very Good | J | SI1  | 63.2 | 60 | 2753 | 6.12 | 6.09 | 3.86 |\n",
       "| 0.76 | Premium   | I | VS1  | 59.3 | 62 | 2753 | 5.93 | 5.85 | 3.49 |\n",
       "| 0.76 | Ideal     | I | VVS1 | 62.2 | 55 | 2753 | 5.89 | 5.87 | 3.66 |\n",
       "| 0.70 | Very Good | E | VS2  | 62.4 | 60 | 2755 | 5.57 | 5.61 | 3.49 |\n",
       "| 0.70 | Very Good | E | VS2  | 62.8 | 60 | 2755 | 5.59 | 5.65 | 3.53 |\n",
       "| 0.70 | Very Good | D | VS1  | 63.1 | 59 | 2755 | 5.67 | 5.58 | 3.55 |\n",
       "| 0.73 | Ideal     | I | VS2  | 61.3 | 56 | 2756 | 5.80 | 5.84 | 3.57 |\n",
       "| 0.73 | Ideal     | I | VS2  | 61.6 | 55 | 2756 | 5.82 | 5.84 | 3.59 |\n",
       "| 0.79 | Ideal     | I | SI1  | 61.6 | 56 | 2756 | 5.95 | 5.97 | 3.67 |\n",
       "| 0.71 | Ideal     | E | SI1  | 61.9 | 56 | 2756 | 5.71 | 5.73 | 3.54 |\n",
       "| 0.79 | Good      | F | SI1  | 58.1 | 59 | 2756 | 6.06 | 6.13 | 3.54 |\n",
       "| 0.79 | Premium   | E | SI2  | 61.4 | 58 | 2756 | 6.03 | 5.96 | 3.68 |\n",
       "| 0.71 | Ideal     | G | VS1  | 61.4 | 56 | 2756 | 5.76 | 5.73 | 3.53 |\n",
       "| 0.71 | Premium   | E | SI1  | 60.5 | 55 | 2756 | 5.79 | 5.74 | 3.49 |\n",
       "| 0.71 | Premium   | F | SI1  | 59.8 | 62 | 2756 | 5.74 | 5.73 | 3.43 |\n",
       "| 0.70 | Very Good | E | VS2  | 60.5 | 59 | 2757 | 5.71 | 5.76 | 3.47 |\n",
       "| 0.70 | Very Good | E | VS2  | 61.2 | 59 | 2757 | 5.69 | 5.72 | 3.49 |\n",
       "| 0.72 | Premium   | D | SI1  | 62.7 | 59 | 2757 | 5.69 | 5.73 | 3.58 |\n",
       "| 0.72 | Ideal     | D | SI1  | 60.8 | 57 | 2757 | 5.75 | 5.76 | 3.50 |\n",
       "| 0.72 | Good      | D | SI1  | 63.1 | 55 | 2757 | 5.69 | 5.75 | 3.61 |\n",
       "| 0.70 | Very Good | D | SI1  | 62.8 | 60 | 2757 | 5.66 | 5.68 | 3.56 |\n",
       "| 0.86 | Premium   | H | SI2  | 61.0 | 58 | 2757 | 6.15 | 6.12 | 3.74 |\n",
       "| 0.75 | Ideal     | D | SI2  | 62.2 | 55 | 2757 | 5.83 | 5.87 | 3.64 |\n",
       "\n"
      ],
      "text/plain": [
       "      carat cut       color clarity depth table price x    y    z   \n",
       "1     0.23  Ideal     E     SI2     61.5  55    326   3.95 3.98 2.43\n",
       "2     0.21  Premium   E     SI1     59.8  61    326   3.89 3.84 2.31\n",
       "3     0.23  Good      E     VS1     56.9  65    327   4.05 4.07 2.31\n",
       "4     0.29  Premium   I     VS2     62.4  58    334   4.20 4.23 2.63\n",
       "5     0.31  Good      J     SI2     63.3  58    335   4.34 4.35 2.75\n",
       "6     0.24  Very Good J     VVS2    62.8  57    336   3.94 3.96 2.48\n",
       "7     0.24  Very Good I     VVS1    62.3  57    336   3.95 3.98 2.47\n",
       "8     0.26  Very Good H     SI1     61.9  55    337   4.07 4.11 2.53\n",
       "9     0.22  Fair      E     VS2     65.1  61    337   3.87 3.78 2.49\n",
       "10    0.23  Very Good H     VS1     59.4  61    338   4.00 4.05 2.39\n",
       "11    0.30  Good      J     SI1     64.0  55    339   4.25 4.28 2.73\n",
       "12    0.23  Ideal     J     VS1     62.8  56    340   3.93 3.90 2.46\n",
       "13    0.22  Premium   F     SI1     60.4  61    342   3.88 3.84 2.33\n",
       "14    0.31  Ideal     J     SI2     62.2  54    344   4.35 4.37 2.71\n",
       "15    0.20  Premium   E     SI2     60.2  62    345   3.79 3.75 2.27\n",
       "16    0.32  Premium   E     I1      60.9  58    345   4.38 4.42 2.68\n",
       "17    0.30  Ideal     I     SI2     62.0  54    348   4.31 4.34 2.68\n",
       "18    0.30  Good      J     SI1     63.4  54    351   4.23 4.29 2.70\n",
       "19    0.30  Good      J     SI1     63.8  56    351   4.23 4.26 2.71\n",
       "20    0.30  Very Good J     SI1     62.7  59    351   4.21 4.27 2.66\n",
       "21    0.30  Good      I     SI2     63.3  56    351   4.26 4.30 2.71\n",
       "22    0.23  Very Good E     VS2     63.8  55    352   3.85 3.92 2.48\n",
       "23    0.23  Very Good H     VS1     61.0  57    353   3.94 3.96 2.41\n",
       "24    0.31  Very Good J     SI1     59.4  62    353   4.39 4.43 2.62\n",
       "25    0.31  Very Good J     SI1     58.1  62    353   4.44 4.47 2.59\n",
       "26    0.23  Very Good G     VVS2    60.4  58    354   3.97 4.01 2.41\n",
       "27    0.24  Premium   I     VS1     62.5  57    355   3.97 3.94 2.47\n",
       "28    0.30  Very Good J     VS2     62.2  57    357   4.28 4.30 2.67\n",
       "29    0.23  Very Good D     VS2     60.5  61    357   3.96 3.97 2.40\n",
       "30    0.23  Very Good F     VS1     60.9  57    357   3.96 3.99 2.42\n",
       "<U+22EE>     <U+22EE> <U+22EE>  <U+22EE> <U+22EE> <U+22EE> <U+22EE> <U+22EE> <U+22EE> <U+22EE> <U+22EE>\n",
       "53911 0.70  Premium   E     SI1     60.5  58    2753  5.74 5.77 3.48\n",
       "53912 0.57  Premium   E     IF      59.8  60    2753  5.43 5.38 3.23\n",
       "53913 0.61  Premium   F     VVS1    61.8  59    2753  5.48 5.40 3.36\n",
       "53914 0.80  Good      G     VS2     64.2  58    2753  5.84 5.81 3.74\n",
       "53915 0.84  Good      I     VS1     63.7  59    2753  5.94 5.90 3.77\n",
       "53916 0.77  Ideal     E     SI2     62.1  56    2753  5.84 5.86 3.63\n",
       "53917 0.74  Good      D     SI1     63.1  59    2753  5.71 5.74 3.61\n",
       "53918 0.90  Very Good J     SI1     63.2  60    2753  6.12 6.09 3.86\n",
       "53919 0.76  Premium   I     VS1     59.3  62    2753  5.93 5.85 3.49\n",
       "53920 0.76  Ideal     I     VVS1    62.2  55    2753  5.89 5.87 3.66\n",
       "53921 0.70  Very Good E     VS2     62.4  60    2755  5.57 5.61 3.49\n",
       "53922 0.70  Very Good E     VS2     62.8  60    2755  5.59 5.65 3.53\n",
       "53923 0.70  Very Good D     VS1     63.1  59    2755  5.67 5.58 3.55\n",
       "53924 0.73  Ideal     I     VS2     61.3  56    2756  5.80 5.84 3.57\n",
       "53925 0.73  Ideal     I     VS2     61.6  55    2756  5.82 5.84 3.59\n",
       "53926 0.79  Ideal     I     SI1     61.6  56    2756  5.95 5.97 3.67\n",
       "53927 0.71  Ideal     E     SI1     61.9  56    2756  5.71 5.73 3.54\n",
       "53928 0.79  Good      F     SI1     58.1  59    2756  6.06 6.13 3.54\n",
       "53929 0.79  Premium   E     SI2     61.4  58    2756  6.03 5.96 3.68\n",
       "53930 0.71  Ideal     G     VS1     61.4  56    2756  5.76 5.73 3.53\n",
       "53931 0.71  Premium   E     SI1     60.5  55    2756  5.79 5.74 3.49\n",
       "53932 0.71  Premium   F     SI1     59.8  62    2756  5.74 5.73 3.43\n",
       "53933 0.70  Very Good E     VS2     60.5  59    2757  5.71 5.76 3.47\n",
       "53934 0.70  Very Good E     VS2     61.2  59    2757  5.69 5.72 3.49\n",
       "53935 0.72  Premium   D     SI1     62.7  59    2757  5.69 5.73 3.58\n",
       "53936 0.72  Ideal     D     SI1     60.8  57    2757  5.75 5.76 3.50\n",
       "53937 0.72  Good      D     SI1     63.1  55    2757  5.69 5.75 3.61\n",
       "53938 0.70  Very Good D     SI1     62.8  60    2757  5.66 5.68 3.56\n",
       "53939 0.86  Premium   H     SI2     61.0  58    2757  6.15 6.12 3.74\n",
       "53940 0.75  Ideal     D     SI2     62.2  55    2757  5.83 5.87 3.64"
      ]
     },
     "metadata": {},
     "output_type": "display_data"
    }
   ],
   "source": [
    "df"
   ]
  },
  {
   "cell_type": "code",
   "execution_count": null,
   "id": "3afebce3",
   "metadata": {},
   "outputs": [],
   "source": []
  }
 ],
 "metadata": {
  "kernelspec": {
   "display_name": "R",
   "language": "R",
   "name": "ir"
  },
  "language_info": {
   "codemirror_mode": "r",
   "file_extension": ".r",
   "mimetype": "text/x-r-source",
   "name": "R",
   "pygments_lexer": "r",
   "version": "4.1.3"
  }
 },
 "nbformat": 4,
 "nbformat_minor": 5
}
